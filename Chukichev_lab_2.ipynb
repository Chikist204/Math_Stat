{
 "cells": [
  {
   "cell_type": "markdown",
   "id": "0a7aa4d8",
   "metadata": {},
   "source": [
    "<font size=6> Лабораторная работа №2</font> \n",
    "        \n",
    "        \n",
    "<font size=4> по предмету Математическая статистика\n",
    "    \n",
    "<font size=2> Выполнил: Чукичев А.В. R3342\n",
    "    \n",
    "<font size=2> Проверил: Береговенко И.И."
   ]
  },
  {
   "cell_type": "markdown",
   "id": "57016994",
   "metadata": {
    "toc": true
   },
   "source": [
    "<h1>Содержание<span class=\"tocSkip\"></span></h1>\n",
    "<div class=\"toc\"><ul class=\"toc-item\"><li><span><a href=\"#Задание-1-(Вариант-4)\" data-toc-modified-id=\"Задание-1-(Вариант-4)-1\"><span class=\"toc-item-num\">1&nbsp;&nbsp;</span>Задание 1 (Вариант 4)</a></span></li><li><span><a href=\"#Задание-2-(Вариант-3)\" data-toc-modified-id=\"Задание-2-(Вариант-3)-2\"><span class=\"toc-item-num\">2&nbsp;&nbsp;</span>Задание 2 (Вариант 3)</a></span><ul class=\"toc-item\"><li><span><a href=\"#Начальные-и-центральные-эмпирические-моменты-(до-4-го-порядка)\" data-toc-modified-id=\"Начальные-и-центральные-эмпирические-моменты-(до-4-го-порядка)-2.1\"><span class=\"toc-item-num\">2.1&nbsp;&nbsp;</span>Начальные и центральные эмпирические моменты (до 4-го порядка)</a></span></li><li><span><a href=\"#Мода,-медиана,-коэффициенты-асимметрии-и-эксцесса\" data-toc-modified-id=\"Мода,-медиана,-коэффициенты-асимметрии-и-эксцесса-2.2\"><span class=\"toc-item-num\">2.2&nbsp;&nbsp;</span>Мода, медиана, коэффициенты асимметрии и эксцесса</a></span></li><li><span><a href=\"#Выводы-о-распределении-и-оценка-параметров\" data-toc-modified-id=\"Выводы-о-распределении-и-оценка-параметров-2.3\"><span class=\"toc-item-num\">2.3&nbsp;&nbsp;</span>Выводы о распределении и оценка параметров</a></span></li></ul></li><li><span><a href=\"#Выборка-B\" data-toc-modified-id=\"Выборка-B-3\"><span class=\"toc-item-num\">3&nbsp;&nbsp;</span>Выборка B</a></span><ul class=\"toc-item\"><li><span><a href=\"#Выборка\" data-toc-modified-id=\"Выборка-3.1\"><span class=\"toc-item-num\">3.1&nbsp;&nbsp;</span>Выборка</a></span></li><li><span><a href=\"#Максимальный,-минимальный-элементы-и-размах-выборки\" data-toc-modified-id=\"Максимальный,-минимальный-элементы-и-размах-выборки-3.2\"><span class=\"toc-item-num\">3.2&nbsp;&nbsp;</span>Максимальный, минимальный элементы и размах выборки</a></span></li><li><span><a href=\"#Построение-интервального-ряда,-гистограммы-и-полигона\" data-toc-modified-id=\"Построение-интервального-ряда,-гистограммы-и-полигона-3.3\"><span class=\"toc-item-num\">3.3&nbsp;&nbsp;</span>Построение интервального ряда, гистограммы и полигона</a></span></li><li><span><a href=\"#Эмпирическая-функция-распределения\" data-toc-modified-id=\"Эмпирическая-функция-распределения-3.4\"><span class=\"toc-item-num\">3.4&nbsp;&nbsp;</span>Эмпирическая функция распределения</a></span></li><li><span><a href=\"#Начальные-и-центральные-эмпирические-моменты-(до-4-го-порядка)\" data-toc-modified-id=\"Начальные-и-центральные-эмпирические-моменты-(до-4-го-порядка)-3.5\"><span class=\"toc-item-num\">3.5&nbsp;&nbsp;</span>Начальные и центральные эмпирические моменты (до 4-го порядка)</a></span></li><li><span><a href=\"#Мода,-медиана,-коэффициенты-асимметрии-и-эксцесса\" data-toc-modified-id=\"Мода,-медиана,-коэффициенты-асимметрии-и-эксцесса-3.6\"><span class=\"toc-item-num\">3.6&nbsp;&nbsp;</span>Мода, медиана, коэффициенты асимметрии и эксцесса</a></span></li><li><span><a href=\"#Выводы-о-распределении-и-оценка-параметров\" data-toc-modified-id=\"Выводы-о-распределении-и-оценка-параметров-3.7\"><span class=\"toc-item-num\">3.7&nbsp;&nbsp;</span>Выводы о распределении и оценка параметров</a></span></li></ul></li></ul></div>"
   ]
  },
  {
   "cell_type": "code",
   "execution_count": 76,
   "id": "2a2cc558",
   "metadata": {},
   "outputs": [],
   "source": [
    "import numpy as np\n",
    "import pandas as pd\n",
    "import numpy as np\n",
    "from scipy.stats import f\n",
    "from scipy import stats"
   ]
  },
  {
   "cell_type": "markdown",
   "id": "25f33435",
   "metadata": {},
   "source": [
    "# Задание 1 (Вариант 4)"
   ]
  },
  {
   "cell_type": "markdown",
   "id": "37fe246e",
   "metadata": {},
   "source": [
    "По условию задания нам даны 2 независимые выборки $X_1$ и $X_2$ из нормальных распределений $\\mathcal{N}(\\mu_1,\\sigma_1^2)$, $\\mathcal{N}(\\mu_2,\\sigma_2^2)$ объёмов $n_1, n_2$ соответственно. Кроме того, по варианту нам известны средние значения $\\mu_1$, $\\mu_2$; $\\sigma_1^2=2 > \\sigma_2^2=1$"
   ]
  },
  {
   "cell_type": "markdown",
   "id": "7a76d906",
   "metadata": {},
   "source": [
    "По лемме Фишера, с учетом того, что нам известны средние значения, независимые случайные величины $$\\frac{n_1 S_1^2}{\\sigma_1^2} = \\chi_{n_1}^2 \\quad \\frac{n_2 S_2^2}{\\sigma_2^2} = \\chi_{n_2}^2,$$ где $S^2 = \\frac{1}{n} \\sum_{i=1}^{n}(x_i-\\mu)^2$.\n",
    "\n",
    "По теореме Фишера: $$\\frac{\\chi_{n_1}^2 / n_1}{\\chi_{n_2}^2 / n_2} \\sim  F_{n_1, n_2}$$"
   ]
  },
  {
   "cell_type": "markdown",
   "id": "5c91fdab",
   "metadata": {},
   "source": [
    "Используя это, построим доверительный интервал уровня $1-\\alpha$ для параметра $\\tau = \\frac{\\sigma_1^2}{\\sigma_2^2}$. \n",
    "\n",
    "Доверительный инетрвал уровня $1-\\alpha$ для распределения Фишера возьмем критические значения $F_{n_1, n_2, \\frac{\\alpha}{2}}$ и $F_{n_1, n_2, 1- \\frac{\\alpha}{2}}$.\n",
    "\n",
    "Получим следующее вероятностное неравенство:\n",
    "$$P(F_{n_1, n_2, \\frac{\\alpha}{2}} \\lt  \\frac{\\chi_{n_1}^2 / n_1}{\\chi_{n_2}^2 / n_2} \\lt F_{n_1, n_2, 1- \\frac{\\alpha}{2}}) = 1 - \\alpha$$ \n",
    "\n",
    "$$P(F_{n_1, n_2, \\frac{\\alpha}{2}} \\lt  \\frac{\\frac{S_1^2}{\\sigma_1^2}}{\\frac{S_2^2}{\\sigma_2^2}} \\lt F_{n_1, n_2, 1- \\frac{\\alpha}{2}}) = 1 - \\alpha$$\n",
    "\n",
    "\n",
    "$$P(\\frac{F_{n_1, n_2, \\frac{\\alpha}{2}} S_2^2}{S_1^2} \\lt \\frac{\\sigma_2^2}{\\sigma_1^2} \\lt \\frac{F_{n_1, n_2, 1- \\frac{\\alpha}{2}} S_2^2}{S_1^2}) = 1 - \\alpha$$\n",
    "\n",
    "$$P(\\frac{S_1^2}{F_{n_1, n_2, 1-\\frac{\\alpha}{2}} S_2^2} \\lt \\frac{\\sigma_1^2}{\\sigma_2^2} \\lt \\frac{S_1^2}{F_{n_1, n_2, \\frac{\\alpha}{2}} S_2^2}) = 1 - \\alpha$$\n",
    "\n",
    "$$P(\\frac{n_2 \\sum_{i=1}^{n_1}(x_i-\\mu_1)^2}{n_1 \\sum_{i=1}^{n_2}(x_i-\\mu_2)^2} \\frac{1}{F_{n_1, n_2, 1-\\frac{\\alpha}{2}}} \\lt \\tau \\lt \\frac{n_2 \\sum_{i=1}^{n_1}(x_i-\\mu_1)^2}{n_1 \\sum_{i=1}^{n_2}(x_i-\\mu_2)^2} \\frac{1}{F_{n_1, n_2, \\frac{\\alpha}{2}}}) = 1 - \\alpha$$"
   ]
  },
  {
   "cell_type": "markdown",
   "id": "1466feb0",
   "metadata": {},
   "source": [
    "**Таким образом доверительный интервал уровня $1-\\alpha$:**\n",
    "\n",
    "$$(\\frac{n_2 \\sum_{i=1}^{n_1}(x_i-\\mu_1)^2}{n_1 \\sum_{i=1}^{n_2}(x_i-\\mu_2)^2} \\frac{1}{F_{n_1, n_2, 1-\\frac{\\alpha}{2}}}; \\frac{n_2 \\sum_{i=1}^{n_1}(x_i-\\mu_1)^2}{n_1 \\sum_{i=1}^{n_2}(x_i-\\mu_2)^2} \\frac{1}{F_{n_1, n_2,  \\frac{\\alpha}{2}}})$$"
   ]
  },
  {
   "cell_type": "code",
   "execution_count": 102,
   "id": "363b7b80",
   "metadata": {},
   "outputs": [
    {
     "name": "stdout",
     "output_type": "stream",
     "text": [
      "Покрытие при 25: 944\n",
      "Средний интервал: 3.858798617406955\n",
      "Максимальные отклонения границ интервала: (0.17811627004009098, 19.70978942691314)\n",
      "\n",
      "Покрытие при 10000: 949\n",
      "Средний интервал: 0.1570271326627595\n",
      "Максимальные отклонения границ интервала: (1.772426188855442, 2.228421932565418)\n",
      "\n"
     ]
    }
   ],
   "source": [
    "mu_1 = 0\n",
    "mu_2 = 0\n",
    "\n",
    "sigma_1 = 2\n",
    "sigma_2 = 1\n",
    "\n",
    "tau = sigma_1 / sigma_2\n",
    "alpha = 0.05\n",
    "\n",
    "for n in [25, 10000]:\n",
    "    maxb = -100\n",
    "    mina = 100\n",
    "    cnt = 0\n",
    "    f_l = f.ppf(1 - alpha/2, n, n)\n",
    "    f_h = f.ppf(alpha/2, n, n)\n",
    "    s = []\n",
    "    for _ in range(1000):\n",
    "        X1 = np.random.normal(mu_1, np.sqrt(sigma_1), n)\n",
    "        X2 = np.random.normal(mu_2, np.sqrt(sigma_2), n)\n",
    "        \n",
    "        # интервал (a,b)\n",
    "        a = np.sum((X1 - mu_1)**2) / np.sum((X2 - mu_2)**2) / f_l\n",
    "        b = np.sum((X1 - mu_1)**2) / np.sum((X2 - mu_2)**2) / f_h\n",
    "        \n",
    "        # проверка покрытия\n",
    "        if a <= tau <= b:\n",
    "            cnt += 1\n",
    "        s.append(b - a)\n",
    "        maxb = max(b, maxb)\n",
    "        mina = min(a, mina)\n",
    "    print(f'Покрытие при {n}: {cnt}')\n",
    "    print(f'Средний интервал: {np.mean(s)}')\n",
    "    print(f'Максимальные отклонения границ интервала: ({mina}, {maxb})')\n",
    "    print()"
   ]
  },
  {
   "cell_type": "markdown",
   "id": "52195899",
   "metadata": {},
   "source": [
    "Можно заметить, что при увеличении объема выборки, значение покрытия становится ближе к заданному уровню. Кроме того, можно заметить, насколько сильно снизились колебания интервала и его средняя длина при увеличении количества значений в выборке."
   ]
  },
  {
   "cell_type": "markdown",
   "id": "e7ce26da",
   "metadata": {},
   "source": [
    "# Задание 2 (Вариант 3)"
   ]
  },
  {
   "cell_type": "markdown",
   "id": "b79a050c",
   "metadata": {},
   "source": [
    "Во втором задании необходимо построить асимптотический доверительный интервал для указанного параметра. Провести эксперимент по схеме, аналогичной первому заданию. По варианту: $U[-\\theta, \\theta]; \\theta^2; \\theta = 5$"
   ]
  },
  {
   "cell_type": "markdown",
   "id": "91d42429-a4a9-437e-b61a-dca60b842e76",
   "metadata": {},
   "source": [
    "Для равномерного распределения известно: $$E[X] = 0$$ $$ Var(X) = \\frac{\\theta^2}{3}=S^2$$ Отсюда: $\\theta^2 = 3S^2$ ($S^2$ - выборочная дисперсия). Рассмотрим $X^2$: $$ E[X^2]=\\frac{\\theta^2}{3} $$ $$Var(X^2) = \\frac{4\\theta^4}{45}$$"
   ]
  },
  {
   "cell_type": "markdown",
   "id": "221a2984-628f-4276-864a-2df877efe203",
   "metadata": {},
   "source": [
    "По ЦПТ $$\\sum_{i=1}^{n}X_i^2 \\sim N(n E[X^2], n Var(X^2))$$ или \n",
    "$$\\frac{\\sum_{i=1}^{n}X_i^2-nE[X^2]}{\\sqrt{nVar(X^2)}} \\sim N(0, 1)$$\n",
    "$$\\sqrt{n}\\frac{\\overline{X^2}-E[X^2]}{\\sqrt{Var(X^2)}} \\sim N(0, 1),$$ где $\\overline{X^2}$ - выборочный начальный момент 2 порядка\n",
    "$$\\sqrt{45n}\\frac{\\overline{X^2}-\\frac{\\theta^2}{3}}{6S^2} \\sim N(0, 1)$$"
   ]
  },
  {
   "cell_type": "markdown",
   "id": "72edb773-17e8-4860-91ef-689532e73f61",
   "metadata": {},
   "source": [
    "Тогда асимптотический доверительный интервал $\\theta^2$ уровня $1-\\alpha$:$$(3\\overline{X^2} - \\frac{18S^2}{\\sqrt{45n}} z_{1-\\frac{\\alpha}{2}}; 3\\overline{X^2} + \\frac{18S^2}{\\sqrt{45n}}z_{1-\\frac{\\alpha}{2}})$$"
   ]
  },
  {
   "cell_type": "code",
   "execution_count": 59,
   "id": "8dcd4739",
   "metadata": {},
   "outputs": [
    {
     "name": "stdout",
     "output_type": "stream",
     "text": [
      "Покрытие при 25: 920\n",
      "Средний интервал: 17.365661145954906\n",
      "Максимальные отклонения границ интервала: (8.420306981653397, 53.920321793402145)\n",
      "\n",
      "Покрытие при 10000: 955\n",
      "Средний интервал: 0.8762535730834702\n",
      "Максимальные отклонения границ интервала: (23.85566353472804, 26.096020553153835)\n",
      "\n"
     ]
    }
   ],
   "source": [
    "theta = 5\n",
    "theta_par = theta ** 2\n",
    "alpha = 0.05\n",
    "\n",
    "for n in [25, 10000]:\n",
    "    maxb = -100\n",
    "    mina = 100\n",
    "    cnt = 0\n",
    "    z = stats.norm.ppf(1 - alpha / 2)\n",
    "    s = []\n",
    "    for i in range(1000):\n",
    "        X = np.random.uniform(-theta, theta, n)\n",
    "\n",
    "        S = np.var(X, ddof=1)\n",
    "        X_2 = np.mean(X ** 2)\n",
    "        # интервал (a, b)\n",
    "        a = 3 * X_2 - 18 * S * z / np.sqrt(45 * n)\n",
    "        b = 3 * X_2 + 18 * S * z / np.sqrt(45 * n)\n",
    "\n",
    "        if a <= theta_par <= b:\n",
    "            cnt += 1\n",
    "        s.append(b - a)\n",
    "        maxb = max(b, maxb)\n",
    "        mina = min(a, mina)\n",
    "    print(f'Покрытие при {n}: {cnt}')\n",
    "    print(f'Средний интервал: {np.mean(s)}')\n",
    "    print(f'Максимальные отклонения границ интервала: ({mina}, {maxb})')\n",
    "    print()"
   ]
  },
  {
   "cell_type": "markdown",
   "id": "9988f4f7-23a5-4784-a80b-476edcb687d8",
   "metadata": {},
   "source": [
    "Аналогично первому заданию, можно заметить, что при увеличении объема выборки (удовлетворение условия ЦПТ) рассматриваемое распределение стремится к нормальному, а значит и более корректным становится приведенные выражения; покрытие приближается к заданному уровню, а также уменьшается интервал."
   ]
  }
 ],
 "metadata": {
  "kernelspec": {
   "display_name": "Python 3 (ipykernel)",
   "language": "python",
   "name": "python3"
  },
  "language_info": {
   "codemirror_mode": {
    "name": "ipython",
    "version": 3
   },
   "file_extension": ".py",
   "mimetype": "text/x-python",
   "name": "python",
   "nbconvert_exporter": "python",
   "pygments_lexer": "ipython3",
   "version": "3.12.7"
  },
  "toc": {
   "base_numbering": 1,
   "nav_menu": {},
   "number_sections": true,
   "sideBar": true,
   "skip_h1_title": false,
   "title_cell": "Содержание",
   "title_sidebar": "Содержание",
   "toc_cell": true,
   "toc_position": {
    "height": "calc(100% - 180px)",
    "left": "10px",
    "top": "150px",
    "width": "389.757px"
   },
   "toc_section_display": true,
   "toc_window_display": false
  }
 },
 "nbformat": 4,
 "nbformat_minor": 5
}
