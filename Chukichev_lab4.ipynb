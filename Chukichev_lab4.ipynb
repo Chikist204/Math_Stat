{
 "cells": [
  {
   "cell_type": "markdown",
   "id": "1dccae04-1299-48af-a408-2f668a6cf547",
   "metadata": {},
   "source": [
    "<font size=6> Лабораторная работа №4</font> \n",
    "        \n",
    "        \n",
    "<font size=4> по предмету Математическая статистика\n",
    "\n",
    "<font size=2> Вариант 1,2\n",
    "\n",
    "<font size=2> Выполнил: Чукичев А.В. R3342\n",
    "    \n",
    "<font size=2> Проверил: Береговенко И.И."
   ]
  },
  {
   "cell_type": "markdown",
   "id": "8f31706a-d9fb-4f8a-815e-5e2f242e256e",
   "metadata": {},
   "source": [
    "## Задание 1"
   ]
  },
  {
   "cell_type": "code",
   "execution_count": 3,
   "id": "ba756483-f75e-40d4-afaa-17a7657d128e",
   "metadata": {},
   "outputs": [],
   "source": [
    "import pandas as pd\n",
    "import numpy as np\n",
    "from scipy import stats\n",
    "import warnings\n",
    "warnings.filterwarnings('ignore')"
   ]
  },
  {
   "cell_type": "code",
   "execution_count": 4,
   "id": "62c917e4-1ca6-4f29-bccb-2eada5e8c01a",
   "metadata": {},
   "outputs": [
    {
     "data": {
      "text/html": [
       "<div>\n",
       "<style scoped>\n",
       "    .dataframe tbody tr th:only-of-type {\n",
       "        vertical-align: middle;\n",
       "    }\n",
       "\n",
       "    .dataframe tbody tr th {\n",
       "        vertical-align: top;\n",
       "    }\n",
       "\n",
       "    .dataframe thead th {\n",
       "        text-align: right;\n",
       "    }\n",
       "</style>\n",
       "<table border=\"1\" class=\"dataframe\">\n",
       "  <thead>\n",
       "    <tr style=\"text-align: right;\">\n",
       "      <th></th>\n",
       "      <th>Manufacturer</th>\n",
       "      <th>Model</th>\n",
       "      <th>Type</th>\n",
       "      <th>Min.Price</th>\n",
       "      <th>Price</th>\n",
       "      <th>Max.Price</th>\n",
       "      <th>MPG.city</th>\n",
       "      <th>MPG.highway</th>\n",
       "      <th>AirBags</th>\n",
       "      <th>DriveTrain</th>\n",
       "      <th>...</th>\n",
       "      <th>Passengers</th>\n",
       "      <th>Length</th>\n",
       "      <th>Wheelbase</th>\n",
       "      <th>Width</th>\n",
       "      <th>Turn.circle</th>\n",
       "      <th>Rear.seat.room</th>\n",
       "      <th>Luggage.room</th>\n",
       "      <th>Weight</th>\n",
       "      <th>Origin</th>\n",
       "      <th>Make</th>\n",
       "    </tr>\n",
       "  </thead>\n",
       "  <tbody>\n",
       "    <tr>\n",
       "      <th>0</th>\n",
       "      <td>Acura</td>\n",
       "      <td>Integra</td>\n",
       "      <td>Small</td>\n",
       "      <td>12.9</td>\n",
       "      <td>15.9</td>\n",
       "      <td>18.8</td>\n",
       "      <td>25</td>\n",
       "      <td>31</td>\n",
       "      <td>NaN</td>\n",
       "      <td>Front</td>\n",
       "      <td>...</td>\n",
       "      <td>5</td>\n",
       "      <td>177</td>\n",
       "      <td>102</td>\n",
       "      <td>68</td>\n",
       "      <td>37</td>\n",
       "      <td>26.5</td>\n",
       "      <td>11.0</td>\n",
       "      <td>2705</td>\n",
       "      <td>non-USA</td>\n",
       "      <td>Acura Integra</td>\n",
       "    </tr>\n",
       "    <tr>\n",
       "      <th>1</th>\n",
       "      <td>Acura</td>\n",
       "      <td>Legend</td>\n",
       "      <td>Midsize</td>\n",
       "      <td>29.2</td>\n",
       "      <td>33.9</td>\n",
       "      <td>38.7</td>\n",
       "      <td>18</td>\n",
       "      <td>25</td>\n",
       "      <td>Driver &amp; Passenger</td>\n",
       "      <td>Front</td>\n",
       "      <td>...</td>\n",
       "      <td>5</td>\n",
       "      <td>195</td>\n",
       "      <td>115</td>\n",
       "      <td>71</td>\n",
       "      <td>38</td>\n",
       "      <td>30.0</td>\n",
       "      <td>15.0</td>\n",
       "      <td>3560</td>\n",
       "      <td>non-USA</td>\n",
       "      <td>Acura Legend</td>\n",
       "    </tr>\n",
       "    <tr>\n",
       "      <th>2</th>\n",
       "      <td>Audi</td>\n",
       "      <td>90</td>\n",
       "      <td>Compact</td>\n",
       "      <td>25.9</td>\n",
       "      <td>29.1</td>\n",
       "      <td>32.3</td>\n",
       "      <td>20</td>\n",
       "      <td>26</td>\n",
       "      <td>Driver only</td>\n",
       "      <td>Front</td>\n",
       "      <td>...</td>\n",
       "      <td>5</td>\n",
       "      <td>180</td>\n",
       "      <td>102</td>\n",
       "      <td>67</td>\n",
       "      <td>37</td>\n",
       "      <td>28.0</td>\n",
       "      <td>14.0</td>\n",
       "      <td>3375</td>\n",
       "      <td>non-USA</td>\n",
       "      <td>Audi 90</td>\n",
       "    </tr>\n",
       "  </tbody>\n",
       "</table>\n",
       "<p>3 rows × 27 columns</p>\n",
       "</div>"
      ],
      "text/plain": [
       "  Manufacturer    Model     Type  Min.Price  Price  Max.Price  MPG.city  \\\n",
       "0        Acura  Integra    Small       12.9   15.9       18.8        25   \n",
       "1        Acura   Legend  Midsize       29.2   33.9       38.7        18   \n",
       "2         Audi       90  Compact       25.9   29.1       32.3        20   \n",
       "\n",
       "   MPG.highway             AirBags DriveTrain  ... Passengers  Length  \\\n",
       "0           31                 NaN      Front  ...          5     177   \n",
       "1           25  Driver & Passenger      Front  ...          5     195   \n",
       "2           26         Driver only      Front  ...          5     180   \n",
       "\n",
       "   Wheelbase  Width  Turn.circle Rear.seat.room  Luggage.room  Weight  \\\n",
       "0        102     68           37           26.5          11.0    2705   \n",
       "1        115     71           38           30.0          15.0    3560   \n",
       "2        102     67           37           28.0          14.0    3375   \n",
       "\n",
       "    Origin           Make  \n",
       "0  non-USA  Acura Integra  \n",
       "1  non-USA   Acura Legend  \n",
       "2  non-USA        Audi 90  \n",
       "\n",
       "[3 rows x 27 columns]"
      ]
     },
     "execution_count": 4,
     "metadata": {},
     "output_type": "execute_result"
    }
   ],
   "source": [
    "df = pd.read_csv('cars93.csv')\n",
    "df.head(3)"
   ]
  },
  {
   "cell_type": "code",
   "execution_count": 5,
   "id": "049479e0-ab82-401e-a004-5823ee68dc43",
   "metadata": {},
   "outputs": [
    {
     "data": {
      "text/html": [
       "<div>\n",
       "<style scoped>\n",
       "    .dataframe tbody tr th:only-of-type {\n",
       "        vertical-align: middle;\n",
       "    }\n",
       "\n",
       "    .dataframe tbody tr th {\n",
       "        vertical-align: top;\n",
       "    }\n",
       "\n",
       "    .dataframe thead th {\n",
       "        text-align: right;\n",
       "    }\n",
       "</style>\n",
       "<table border=\"1\" class=\"dataframe\">\n",
       "  <thead>\n",
       "    <tr style=\"text-align: right;\">\n",
       "      <th></th>\n",
       "      <th>Min.Price</th>\n",
       "      <th>Price</th>\n",
       "      <th>Max.Price</th>\n",
       "      <th>MPG.city</th>\n",
       "      <th>MPG.highway</th>\n",
       "      <th>EngineSize</th>\n",
       "      <th>Horsepower</th>\n",
       "      <th>RPM</th>\n",
       "      <th>Rev.per.mile</th>\n",
       "      <th>Fuel.tank.capacity</th>\n",
       "      <th>Passengers</th>\n",
       "      <th>Length</th>\n",
       "      <th>Wheelbase</th>\n",
       "      <th>Width</th>\n",
       "      <th>Turn.circle</th>\n",
       "      <th>Rear.seat.room</th>\n",
       "      <th>Luggage.room</th>\n",
       "      <th>Weight</th>\n",
       "    </tr>\n",
       "  </thead>\n",
       "  <tbody>\n",
       "    <tr>\n",
       "      <th>count</th>\n",
       "      <td>93.000000</td>\n",
       "      <td>93.000000</td>\n",
       "      <td>93.000000</td>\n",
       "      <td>93.000000</td>\n",
       "      <td>93.000000</td>\n",
       "      <td>93.000000</td>\n",
       "      <td>93.000000</td>\n",
       "      <td>93.000000</td>\n",
       "      <td>93.000000</td>\n",
       "      <td>93.000000</td>\n",
       "      <td>93.000000</td>\n",
       "      <td>93.000000</td>\n",
       "      <td>93.000000</td>\n",
       "      <td>93.000000</td>\n",
       "      <td>93.000000</td>\n",
       "      <td>91.000000</td>\n",
       "      <td>82.000000</td>\n",
       "      <td>93.000000</td>\n",
       "    </tr>\n",
       "    <tr>\n",
       "      <th>mean</th>\n",
       "      <td>17.125806</td>\n",
       "      <td>19.509677</td>\n",
       "      <td>21.898925</td>\n",
       "      <td>22.365591</td>\n",
       "      <td>29.086022</td>\n",
       "      <td>2.667742</td>\n",
       "      <td>143.827957</td>\n",
       "      <td>5280.645161</td>\n",
       "      <td>2332.204301</td>\n",
       "      <td>16.664516</td>\n",
       "      <td>5.086022</td>\n",
       "      <td>183.204301</td>\n",
       "      <td>103.946237</td>\n",
       "      <td>69.376344</td>\n",
       "      <td>38.956989</td>\n",
       "      <td>27.829670</td>\n",
       "      <td>13.890244</td>\n",
       "      <td>3072.903226</td>\n",
       "    </tr>\n",
       "    <tr>\n",
       "      <th>std</th>\n",
       "      <td>8.746029</td>\n",
       "      <td>9.659430</td>\n",
       "      <td>11.030457</td>\n",
       "      <td>5.619812</td>\n",
       "      <td>5.331726</td>\n",
       "      <td>1.037363</td>\n",
       "      <td>52.374410</td>\n",
       "      <td>596.731690</td>\n",
       "      <td>496.506525</td>\n",
       "      <td>3.279370</td>\n",
       "      <td>1.038979</td>\n",
       "      <td>14.602382</td>\n",
       "      <td>6.819674</td>\n",
       "      <td>3.778986</td>\n",
       "      <td>3.223265</td>\n",
       "      <td>2.989072</td>\n",
       "      <td>2.997967</td>\n",
       "      <td>589.896510</td>\n",
       "    </tr>\n",
       "    <tr>\n",
       "      <th>min</th>\n",
       "      <td>6.700000</td>\n",
       "      <td>7.400000</td>\n",
       "      <td>7.900000</td>\n",
       "      <td>15.000000</td>\n",
       "      <td>20.000000</td>\n",
       "      <td>1.000000</td>\n",
       "      <td>55.000000</td>\n",
       "      <td>3800.000000</td>\n",
       "      <td>1320.000000</td>\n",
       "      <td>9.200000</td>\n",
       "      <td>2.000000</td>\n",
       "      <td>141.000000</td>\n",
       "      <td>90.000000</td>\n",
       "      <td>60.000000</td>\n",
       "      <td>32.000000</td>\n",
       "      <td>19.000000</td>\n",
       "      <td>6.000000</td>\n",
       "      <td>1695.000000</td>\n",
       "    </tr>\n",
       "    <tr>\n",
       "      <th>25%</th>\n",
       "      <td>10.800000</td>\n",
       "      <td>12.200000</td>\n",
       "      <td>14.700000</td>\n",
       "      <td>18.000000</td>\n",
       "      <td>26.000000</td>\n",
       "      <td>1.800000</td>\n",
       "      <td>103.000000</td>\n",
       "      <td>4800.000000</td>\n",
       "      <td>1985.000000</td>\n",
       "      <td>14.500000</td>\n",
       "      <td>4.000000</td>\n",
       "      <td>174.000000</td>\n",
       "      <td>98.000000</td>\n",
       "      <td>67.000000</td>\n",
       "      <td>37.000000</td>\n",
       "      <td>26.000000</td>\n",
       "      <td>12.000000</td>\n",
       "      <td>2620.000000</td>\n",
       "    </tr>\n",
       "    <tr>\n",
       "      <th>50%</th>\n",
       "      <td>14.700000</td>\n",
       "      <td>17.700000</td>\n",
       "      <td>19.600000</td>\n",
       "      <td>21.000000</td>\n",
       "      <td>28.000000</td>\n",
       "      <td>2.400000</td>\n",
       "      <td>140.000000</td>\n",
       "      <td>5200.000000</td>\n",
       "      <td>2340.000000</td>\n",
       "      <td>16.400000</td>\n",
       "      <td>5.000000</td>\n",
       "      <td>183.000000</td>\n",
       "      <td>103.000000</td>\n",
       "      <td>69.000000</td>\n",
       "      <td>39.000000</td>\n",
       "      <td>27.500000</td>\n",
       "      <td>14.000000</td>\n",
       "      <td>3040.000000</td>\n",
       "    </tr>\n",
       "    <tr>\n",
       "      <th>75%</th>\n",
       "      <td>20.300000</td>\n",
       "      <td>23.300000</td>\n",
       "      <td>25.300000</td>\n",
       "      <td>25.000000</td>\n",
       "      <td>31.000000</td>\n",
       "      <td>3.300000</td>\n",
       "      <td>170.000000</td>\n",
       "      <td>5750.000000</td>\n",
       "      <td>2565.000000</td>\n",
       "      <td>18.800000</td>\n",
       "      <td>6.000000</td>\n",
       "      <td>192.000000</td>\n",
       "      <td>110.000000</td>\n",
       "      <td>72.000000</td>\n",
       "      <td>41.000000</td>\n",
       "      <td>30.000000</td>\n",
       "      <td>15.000000</td>\n",
       "      <td>3525.000000</td>\n",
       "    </tr>\n",
       "    <tr>\n",
       "      <th>max</th>\n",
       "      <td>45.400000</td>\n",
       "      <td>61.900000</td>\n",
       "      <td>80.000000</td>\n",
       "      <td>46.000000</td>\n",
       "      <td>50.000000</td>\n",
       "      <td>5.700000</td>\n",
       "      <td>300.000000</td>\n",
       "      <td>6500.000000</td>\n",
       "      <td>3755.000000</td>\n",
       "      <td>27.000000</td>\n",
       "      <td>8.000000</td>\n",
       "      <td>219.000000</td>\n",
       "      <td>119.000000</td>\n",
       "      <td>78.000000</td>\n",
       "      <td>45.000000</td>\n",
       "      <td>36.000000</td>\n",
       "      <td>22.000000</td>\n",
       "      <td>4105.000000</td>\n",
       "    </tr>\n",
       "  </tbody>\n",
       "</table>\n",
       "</div>"
      ],
      "text/plain": [
       "       Min.Price      Price  Max.Price   MPG.city  MPG.highway  EngineSize  \\\n",
       "count  93.000000  93.000000  93.000000  93.000000    93.000000   93.000000   \n",
       "mean   17.125806  19.509677  21.898925  22.365591    29.086022    2.667742   \n",
       "std     8.746029   9.659430  11.030457   5.619812     5.331726    1.037363   \n",
       "min     6.700000   7.400000   7.900000  15.000000    20.000000    1.000000   \n",
       "25%    10.800000  12.200000  14.700000  18.000000    26.000000    1.800000   \n",
       "50%    14.700000  17.700000  19.600000  21.000000    28.000000    2.400000   \n",
       "75%    20.300000  23.300000  25.300000  25.000000    31.000000    3.300000   \n",
       "max    45.400000  61.900000  80.000000  46.000000    50.000000    5.700000   \n",
       "\n",
       "       Horsepower          RPM  Rev.per.mile  Fuel.tank.capacity  Passengers  \\\n",
       "count   93.000000    93.000000     93.000000           93.000000   93.000000   \n",
       "mean   143.827957  5280.645161   2332.204301           16.664516    5.086022   \n",
       "std     52.374410   596.731690    496.506525            3.279370    1.038979   \n",
       "min     55.000000  3800.000000   1320.000000            9.200000    2.000000   \n",
       "25%    103.000000  4800.000000   1985.000000           14.500000    4.000000   \n",
       "50%    140.000000  5200.000000   2340.000000           16.400000    5.000000   \n",
       "75%    170.000000  5750.000000   2565.000000           18.800000    6.000000   \n",
       "max    300.000000  6500.000000   3755.000000           27.000000    8.000000   \n",
       "\n",
       "           Length   Wheelbase      Width  Turn.circle  Rear.seat.room  \\\n",
       "count   93.000000   93.000000  93.000000    93.000000       91.000000   \n",
       "mean   183.204301  103.946237  69.376344    38.956989       27.829670   \n",
       "std     14.602382    6.819674   3.778986     3.223265        2.989072   \n",
       "min    141.000000   90.000000  60.000000    32.000000       19.000000   \n",
       "25%    174.000000   98.000000  67.000000    37.000000       26.000000   \n",
       "50%    183.000000  103.000000  69.000000    39.000000       27.500000   \n",
       "75%    192.000000  110.000000  72.000000    41.000000       30.000000   \n",
       "max    219.000000  119.000000  78.000000    45.000000       36.000000   \n",
       "\n",
       "       Luggage.room       Weight  \n",
       "count     82.000000    93.000000  \n",
       "mean      13.890244  3072.903226  \n",
       "std        2.997967   589.896510  \n",
       "min        6.000000  1695.000000  \n",
       "25%       12.000000  2620.000000  \n",
       "50%       14.000000  3040.000000  \n",
       "75%       15.000000  3525.000000  \n",
       "max       22.000000  4105.000000  "
      ]
     },
     "execution_count": 5,
     "metadata": {},
     "output_type": "execute_result"
    }
   ],
   "source": [
    "df.describe()"
   ]
  },
  {
   "cell_type": "code",
   "execution_count": 6,
   "id": "baf4de48-6071-405b-96b0-3e1498af570d",
   "metadata": {
    "scrolled": true
   },
   "outputs": [
    {
     "name": "stdout",
     "output_type": "stream",
     "text": [
      "<class 'pandas.core.frame.DataFrame'>\n",
      "RangeIndex: 93 entries, 0 to 92\n",
      "Data columns (total 27 columns):\n",
      " #   Column              Non-Null Count  Dtype  \n",
      "---  ------              --------------  -----  \n",
      " 0   Manufacturer        93 non-null     object \n",
      " 1   Model               93 non-null     object \n",
      " 2   Type                93 non-null     object \n",
      " 3   Min.Price           93 non-null     float64\n",
      " 4   Price               93 non-null     float64\n",
      " 5   Max.Price           93 non-null     float64\n",
      " 6   MPG.city            93 non-null     int64  \n",
      " 7   MPG.highway         93 non-null     int64  \n",
      " 8   AirBags             59 non-null     object \n",
      " 9   DriveTrain          93 non-null     object \n",
      " 10  Cylinders           93 non-null     object \n",
      " 11  EngineSize          93 non-null     float64\n",
      " 12  Horsepower          93 non-null     int64  \n",
      " 13  RPM                 93 non-null     int64  \n",
      " 14  Rev.per.mile        93 non-null     int64  \n",
      " 15  Man.trans.avail     93 non-null     object \n",
      " 16  Fuel.tank.capacity  93 non-null     float64\n",
      " 17  Passengers          93 non-null     int64  \n",
      " 18  Length              93 non-null     int64  \n",
      " 19  Wheelbase           93 non-null     int64  \n",
      " 20  Width               93 non-null     int64  \n",
      " 21  Turn.circle         93 non-null     int64  \n",
      " 22  Rear.seat.room      91 non-null     float64\n",
      " 23  Luggage.room        82 non-null     float64\n",
      " 24  Weight              93 non-null     int64  \n",
      " 25  Origin              93 non-null     object \n",
      " 26  Make                93 non-null     object \n",
      "dtypes: float64(7), int64(11), object(9)\n",
      "memory usage: 19.7+ KB\n"
     ]
    }
   ],
   "source": [
    "df.info()"
   ]
  },
  {
   "cell_type": "markdown",
   "id": "cba8e685-62aa-4b24-823e-16c92a93139c",
   "metadata": {},
   "source": [
    "Рассмотрим модель линейной регресси $$y=Xa+\\varepsilon,$$ где $X$ - матрица независимых переменных, $a$ - вектор коэффициентов $\\varepsilon$ - вектор ошибок. По заданию, независимые переменные:\n",
    "- расход в городе\n",
    "- расход на шоссе\n",
    "- мощность (вместе со свободным коэффициентом)"
   ]
  },
  {
   "cell_type": "code",
   "execution_count": 8,
   "id": "d301539a-4da5-427d-b967-716b7281819e",
   "metadata": {},
   "outputs": [],
   "source": [
    "y = df['Price']\n",
    "X = df[['MPG.city', 'MPG.highway', 'Horsepower']]\n",
    "X = np.column_stack((np.ones(X.shape[0]), X)) # столбец для свободного коэффициента"
   ]
  },
  {
   "cell_type": "markdown",
   "id": "b1b4ce65-b32a-4ab6-8f96-7b26af2b2f57",
   "metadata": {},
   "source": [
    "Оценим коэффициент с помощью МНКЖ $$ \\hat{a} = (X^{T} X)^{-1} X^{T} y $$"
   ]
  },
  {
   "cell_type": "code",
   "execution_count": 10,
   "id": "de1acb89-241a-458e-8cd9-176c00c13dd0",
   "metadata": {},
   "outputs": [
    {
     "name": "stdout",
     "output_type": "stream",
     "text": [
      "a_0 Коэффициент: 6.69\n",
      "a_1 Коэффициент: -0.04\n",
      "a_2 Коэффициент: -0.18\n",
      "a_3 Коэффициент: 0.13\n"
     ]
    }
   ],
   "source": [
    "a_h = np.linalg.inv(X.T @ X) @ X.T @ y\n",
    "for i in range(len(a_h)):\n",
    "    print(f'a_{i} Коэффициент: {a_h[i].round(2)}')"
   ]
  },
  {
   "cell_type": "markdown",
   "id": "6f94d1b6-dd6f-4841-9c59-defce3f24221",
   "metadata": {},
   "source": [
    "Вычислим остаточную дисперсию:$$\\hat{\\sigma}^2 = \\frac{(y - Xa)^T(y - Xa)}{n-m},$$ где  $n$ - число наблюдений; $m$ - число параметров"
   ]
  },
  {
   "cell_type": "code",
   "execution_count": 12,
   "id": "046edb9e-d3b3-49b5-9db3-26de88eed5bf",
   "metadata": {},
   "outputs": [
    {
     "name": "stdout",
     "output_type": "stream",
     "text": [
      "Остаточная дисперсия: 35.69468573318615\n"
     ]
    }
   ],
   "source": [
    "y_pred = X @ a_h\n",
    "n, m = X.shape  # количество наблюдений / параметров\n",
    "sigma_h = (y - y_pred).T @ (y - y_pred) / (n - m) # оценка остаточной дисперсии\n",
    "print(\"Остаточная дисперсия:\", sigma_h)"
   ]
  },
  {
   "cell_type": "markdown",
   "id": "3b2fa475-b892-4b3f-9844-ac34f0429f64",
   "metadata": {},
   "source": [
    "Построим доверительные интервалы для коэффициентов. По следствию основной теоремы о линейной регрессии:$$(\\hat{a}_i-a_i)\\sqrt{\\frac{n-m}{A_{ii}^{-1}(Y - Xa)^T(Y - Xa)}} \\sim T(n-m), \\space A = X^T\\cdot X$$ Доверительный инетрвал: $$\\hat{a} - t_{1 - \\alpha/2} \\sqrt{(y - Xa)^T(y - Xa) (X^TX)^{-1}} \\leq a \\leq \\hat{a} + t_{1 - \\alpha/2} \\sqrt{(y - Xa)^T(y - Xa) (X^TX)^{-1}}$$"
   ]
  },
  {
   "cell_type": "code",
   "execution_count": 14,
   "id": "9c8621c9-b252-465c-aa41-c7f304b4765a",
   "metadata": {},
   "outputs": [
    {
     "name": "stdout",
     "output_type": "stream",
     "text": [
      "-5.21<=a_0<=18.588\n",
      "-0.748<=a_1<=0.671\n",
      "-0.884<=a_2<=0.526\n",
      "0.099<=a_3<=0.163\n"
     ]
    }
   ],
   "source": [
    "t = stats.t.ppf(1- 0.05/2, df=n-m)\n",
    "A = np.diagonal(np.linalg.inv(X.T @ X))\n",
    "\n",
    "# Границы интервалов (a, b)\n",
    "a = a_h - t * np.sqrt(sigma_h * A)\n",
    "b = a_h + t * np.sqrt(sigma_h * A)\n",
    "\n",
    "for i in range(m):\n",
    "  print(f'{a[i].round(3)}<=a_{i}<={b[i].round(3)}')"
   ]
  },
  {
   "cell_type": "markdown",
   "id": "e4c6ac6d-9933-4cb4-ab8a-a1e862b6d692",
   "metadata": {},
   "source": [
    "Коэффициент детерминации:$$R^2 = 1 - \\frac{\\sum^n_{i=1}(y_i - \\hat{y_i})^2}{\\sum^n_{i=1}(y_i - \\overline{y})^2}$$"
   ]
  },
  {
   "cell_type": "code",
   "execution_count": 16,
   "id": "9a590a37-5c53-4de4-a45f-a4e080d07236",
   "metadata": {},
   "outputs": [
    {
     "name": "stdout",
     "output_type": "stream",
     "text": [
      "Коэффициент детерминации: R^2 = 0.6258912169214109\n"
     ]
    }
   ],
   "source": [
    "R2 = 1 - (sigma_h * (n - m)) / (np.var(y) * (n - 1))\n",
    "print(f'Коэффициент детерминации: R^2 = {R2}')"
   ]
  },
  {
   "cell_type": "markdown",
   "id": "b2ec46f9-088e-4cc7-b506-7866a12c1237",
   "metadata": {},
   "source": [
    "Теперь проверим гипотезы"
   ]
  },
  {
   "cell_type": "markdown",
   "id": "5e852e5e-fb15-4baf-8898-e6edb3a18d16",
   "metadata": {},
   "source": [
    "1 Гипотеза:\n",
    "- $H_0$: мощность не влияет на цену\n",
    "- $H_1$: чем больше мощность, тем выше цена"
   ]
  },
  {
   "cell_type": "code",
   "execution_count": 19,
   "id": "c58f8abe-ff84-4d46-934d-768fb411c33f",
   "metadata": {},
   "outputs": [
    {
     "name": "stdout",
     "output_type": "stream",
     "text": [
      "Статистика t-теста: 8.153012460969277, p-value = 1.053712672671736e-12\n",
      "Отклоняем H0: чем больше мощность, тем выше цена\n"
     ]
    }
   ],
   "source": [
    "alpha=0.05\n",
    "\n",
    "t_hp = a_h[3] / (np.sqrt(sigma_h * A[3]))\n",
    "p_value = 1 - stats.t.cdf(t_hp, df=n-m)\n",
    "\n",
    "print(f'Статистика t-теста: {t_hp}, p-value = {p_value}')\n",
    "\n",
    "if p_value > 0.05: print(\"Принимаем H0: мощность не влияет на цену\")\n",
    "else: print(\"Отклоняем H0: чем больше мощность, тем выше цена\")"
   ]
  },
  {
   "cell_type": "markdown",
   "id": "59bc894e-45d2-4e8a-a882-66df9854dea4",
   "metadata": {},
   "source": [
    "2 Гипотеза:\n",
    "- $H_0$: Цена не зависит от расхода в городе\n",
    "- $H_1$: Цена изменяется в зависимости от расхода в городе"
   ]
  },
  {
   "cell_type": "code",
   "execution_count": 21,
   "id": "11a88a3f-5a55-4ba1-92ec-61e7cec0c9db",
   "metadata": {},
   "outputs": [
    {
     "name": "stdout",
     "output_type": "stream",
     "text": [
      "Статистика t-теста: -0.10809771106497293, p-value = 0.9141615110843273\n",
      "Принимаем H0: расход в городе не влияет на цену\n"
     ]
    }
   ],
   "source": [
    "alpha=0.05\n",
    "\n",
    "t_city = a_h[1] / (np.sqrt(sigma_h * A[1]))\n",
    "p_value = 2 * (1 - stats.t.cdf(abs(t_city), df=n-m))\n",
    "\n",
    "print(f'Статистика t-теста: {t_city}, p-value = {p_value}')\n",
    "\n",
    "if p_value > 0.05: print(\"Принимаем H0: расход в городе не влияет на цену\")\n",
    "else: print(\"Отклоняем H0: Цена изменяется в зависимости от расхода в городе\")"
   ]
  },
  {
   "cell_type": "markdown",
   "id": "c0fa9b53-2baa-482f-9a92-c7b25e72fc3e",
   "metadata": {},
   "source": [
    "3 Гипотеза:\n",
    "- $H_0$: Коэффициенты при расходе в городе и расходе на шоссе равны нулю одновременно\n",
    "- $H_1$: Коэффициенты при расходе в городе и расходе на шоссе не равны нулю одновременно\n",
    "\n",
    "Проверять гипотезу будем с помощью F-теста: $$F=\\frac{n-m}{k} \\cdot \\frac{S^2(\\hat{c}_{T}) - S^2(\\hat{c})}{ S^2(\\hat{c})} \\sim F_{k, n-m},$$ где $$S^2(c) = (y-Xc)^T(y-Xc)$$"
   ]
  },
  {
   "cell_type": "code",
   "execution_count": 23,
   "id": "1e1fb58c-6c07-4af2-9e01-d3b06dc4b158",
   "metadata": {},
   "outputs": [
    {
     "name": "stdout",
     "output_type": "stream",
     "text": [
      "F-статистика: 2.0239273748617954\n",
      "p-значение: 0.15833383229497466\n",
      "Принимаем H0\n"
     ]
    }
   ],
   "source": [
    "R = np.array([[0, 1, 1, 0]]) #Матрица ограничений\n",
    "a_restricted = R @ a_h\n",
    "sigma_rest = R @ np.linalg.inv(X.T @ X) @ R.T\n",
    "F = (a_restricted.T @ np.linalg.inv(sigma_rest) @ a_restricted / R.shape[0]) / sigma_h\n",
    "p_value_F = 1 - stats.f.cdf(F, dfn=R.shape[0], dfd=X.shape[0] - X.shape[1])\n",
    "\n",
    "print(f\"F-статистика: {F}\")\n",
    "print(f\"p-значение: {p_value_F}\")\n",
    "\n",
    "if p_value_F > 0.05: print(\"Принимаем H0\")\n",
    "else: print(\"Отклоняем H0\")"
   ]
  },
  {
   "cell_type": "markdown",
   "id": "668e3eb5-454b-41ae-a0a5-ff0af582ad36",
   "metadata": {},
   "source": [
    "## Задание 2"
   ]
  },
  {
   "cell_type": "markdown",
   "id": "bf7748d0-6c03-4a2d-b94f-b540dfb5f3b5",
   "metadata": {},
   "source": [
    "Теперь рассмотрим датасет с данными о сдаче экзаменов. Проведем однофакторный дисперсионный анализ. Фактора - этническая/национальная группа, в Выходная переменная - суммарный балл за три экзамена."
   ]
  },
  {
   "cell_type": "code",
   "execution_count": 26,
   "id": "37d10914-429f-4ec9-a1ab-157d4e459ac7",
   "metadata": {},
   "outputs": [
    {
     "data": {
      "text/html": [
       "<div>\n",
       "<style scoped>\n",
       "    .dataframe tbody tr th:only-of-type {\n",
       "        vertical-align: middle;\n",
       "    }\n",
       "\n",
       "    .dataframe tbody tr th {\n",
       "        vertical-align: top;\n",
       "    }\n",
       "\n",
       "    .dataframe thead th {\n",
       "        text-align: right;\n",
       "    }\n",
       "</style>\n",
       "<table border=\"1\" class=\"dataframe\">\n",
       "  <thead>\n",
       "    <tr style=\"text-align: right;\">\n",
       "      <th></th>\n",
       "      <th>gender</th>\n",
       "      <th>race/ethnicity</th>\n",
       "      <th>parental level of education</th>\n",
       "      <th>lunch</th>\n",
       "      <th>test preparation course</th>\n",
       "      <th>math score</th>\n",
       "      <th>reading score</th>\n",
       "      <th>writing score</th>\n",
       "    </tr>\n",
       "  </thead>\n",
       "  <tbody>\n",
       "    <tr>\n",
       "      <th>0</th>\n",
       "      <td>female</td>\n",
       "      <td>group B</td>\n",
       "      <td>high school</td>\n",
       "      <td>standard</td>\n",
       "      <td>none</td>\n",
       "      <td>67</td>\n",
       "      <td>91</td>\n",
       "      <td>84</td>\n",
       "    </tr>\n",
       "    <tr>\n",
       "      <th>1</th>\n",
       "      <td>female</td>\n",
       "      <td>group D</td>\n",
       "      <td>some college</td>\n",
       "      <td>standard</td>\n",
       "      <td>none</td>\n",
       "      <td>63</td>\n",
       "      <td>63</td>\n",
       "      <td>67</td>\n",
       "    </tr>\n",
       "    <tr>\n",
       "      <th>2</th>\n",
       "      <td>female</td>\n",
       "      <td>group A</td>\n",
       "      <td>associate's degree</td>\n",
       "      <td>standard</td>\n",
       "      <td>completed</td>\n",
       "      <td>73</td>\n",
       "      <td>83</td>\n",
       "      <td>85</td>\n",
       "    </tr>\n",
       "    <tr>\n",
       "      <th>3</th>\n",
       "      <td>female</td>\n",
       "      <td>group C</td>\n",
       "      <td>associate's degree</td>\n",
       "      <td>standard</td>\n",
       "      <td>none</td>\n",
       "      <td>85</td>\n",
       "      <td>98</td>\n",
       "      <td>95</td>\n",
       "    </tr>\n",
       "    <tr>\n",
       "      <th>4</th>\n",
       "      <td>male</td>\n",
       "      <td>group B</td>\n",
       "      <td>bachelor's degree</td>\n",
       "      <td>standard</td>\n",
       "      <td>none</td>\n",
       "      <td>75</td>\n",
       "      <td>57</td>\n",
       "      <td>63</td>\n",
       "    </tr>\n",
       "  </tbody>\n",
       "</table>\n",
       "</div>"
      ],
      "text/plain": [
       "   gender race/ethnicity parental level of education     lunch  \\\n",
       "0  female        group B                 high school  standard   \n",
       "1  female        group D                some college  standard   \n",
       "2  female        group A          associate's degree  standard   \n",
       "3  female        group C          associate's degree  standard   \n",
       "4    male        group B           bachelor's degree  standard   \n",
       "\n",
       "  test preparation course  math score  reading score  writing score  \n",
       "0                    none          67             91             84  \n",
       "1                    none          63             63             67  \n",
       "2               completed          73             83             85  \n",
       "3                    none          85             98             95  \n",
       "4                    none          75             57             63  "
      ]
     },
     "execution_count": 26,
     "metadata": {},
     "output_type": "execute_result"
    }
   ],
   "source": [
    "df = pd.read_csv('exams_dataset.csv');\n",
    "df.head()"
   ]
  },
  {
   "cell_type": "code",
   "execution_count": 27,
   "id": "c4253705-afa6-4544-a0c9-84e4c7c10b3e",
   "metadata": {},
   "outputs": [
    {
     "name": "stdout",
     "output_type": "stream",
     "text": [
      "<class 'pandas.core.frame.DataFrame'>\n",
      "RangeIndex: 1000 entries, 0 to 999\n",
      "Data columns (total 8 columns):\n",
      " #   Column                       Non-Null Count  Dtype \n",
      "---  ------                       --------------  ----- \n",
      " 0   gender                       1000 non-null   object\n",
      " 1   race/ethnicity               1000 non-null   object\n",
      " 2   parental level of education  1000 non-null   object\n",
      " 3   lunch                        1000 non-null   object\n",
      " 4   test preparation course      1000 non-null   object\n",
      " 5   math score                   1000 non-null   int64 \n",
      " 6   reading score                1000 non-null   int64 \n",
      " 7   writing score                1000 non-null   int64 \n",
      "dtypes: int64(3), object(5)\n",
      "memory usage: 62.6+ KB\n"
     ]
    }
   ],
   "source": [
    "df.info()"
   ]
  },
  {
   "cell_type": "code",
   "execution_count": 28,
   "id": "89561053-8b6c-4b5f-9264-3fddeea4228d",
   "metadata": {},
   "outputs": [
    {
     "data": {
      "text/plain": [
       "array(['group B', 'group D', 'group A', 'group C', 'group E'],\n",
       "      dtype=object)"
      ]
     },
     "execution_count": 28,
     "metadata": {},
     "output_type": "execute_result"
    }
   ],
   "source": [
    "df['race/ethnicity'].unique() # получили 5 групп"
   ]
  },
  {
   "cell_type": "code",
   "execution_count": 29,
   "id": "03f9329a-6492-45bd-b2cc-113534ef1210",
   "metadata": {},
   "outputs": [
    {
     "data": {
      "text/html": [
       "<div>\n",
       "<style scoped>\n",
       "    .dataframe tbody tr th:only-of-type {\n",
       "        vertical-align: middle;\n",
       "    }\n",
       "\n",
       "    .dataframe tbody tr th {\n",
       "        vertical-align: top;\n",
       "    }\n",
       "\n",
       "    .dataframe thead th {\n",
       "        text-align: right;\n",
       "    }\n",
       "</style>\n",
       "<table border=\"1\" class=\"dataframe\">\n",
       "  <thead>\n",
       "    <tr style=\"text-align: right;\">\n",
       "      <th></th>\n",
       "      <th>gender</th>\n",
       "      <th>race/ethnicity</th>\n",
       "      <th>parental level of education</th>\n",
       "      <th>lunch</th>\n",
       "      <th>test preparation course</th>\n",
       "      <th>math score</th>\n",
       "      <th>reading score</th>\n",
       "      <th>writing score</th>\n",
       "      <th>total</th>\n",
       "    </tr>\n",
       "  </thead>\n",
       "  <tbody>\n",
       "    <tr>\n",
       "      <th>0</th>\n",
       "      <td>female</td>\n",
       "      <td>group B</td>\n",
       "      <td>high school</td>\n",
       "      <td>standard</td>\n",
       "      <td>none</td>\n",
       "      <td>67</td>\n",
       "      <td>91</td>\n",
       "      <td>84</td>\n",
       "      <td>242</td>\n",
       "    </tr>\n",
       "    <tr>\n",
       "      <th>1</th>\n",
       "      <td>female</td>\n",
       "      <td>group D</td>\n",
       "      <td>some college</td>\n",
       "      <td>standard</td>\n",
       "      <td>none</td>\n",
       "      <td>63</td>\n",
       "      <td>63</td>\n",
       "      <td>67</td>\n",
       "      <td>193</td>\n",
       "    </tr>\n",
       "    <tr>\n",
       "      <th>2</th>\n",
       "      <td>female</td>\n",
       "      <td>group A</td>\n",
       "      <td>associate's degree</td>\n",
       "      <td>standard</td>\n",
       "      <td>completed</td>\n",
       "      <td>73</td>\n",
       "      <td>83</td>\n",
       "      <td>85</td>\n",
       "      <td>241</td>\n",
       "    </tr>\n",
       "    <tr>\n",
       "      <th>3</th>\n",
       "      <td>female</td>\n",
       "      <td>group C</td>\n",
       "      <td>associate's degree</td>\n",
       "      <td>standard</td>\n",
       "      <td>none</td>\n",
       "      <td>85</td>\n",
       "      <td>98</td>\n",
       "      <td>95</td>\n",
       "      <td>278</td>\n",
       "    </tr>\n",
       "    <tr>\n",
       "      <th>4</th>\n",
       "      <td>male</td>\n",
       "      <td>group B</td>\n",
       "      <td>bachelor's degree</td>\n",
       "      <td>standard</td>\n",
       "      <td>none</td>\n",
       "      <td>75</td>\n",
       "      <td>57</td>\n",
       "      <td>63</td>\n",
       "      <td>195</td>\n",
       "    </tr>\n",
       "  </tbody>\n",
       "</table>\n",
       "</div>"
      ],
      "text/plain": [
       "   gender race/ethnicity parental level of education     lunch  \\\n",
       "0  female        group B                 high school  standard   \n",
       "1  female        group D                some college  standard   \n",
       "2  female        group A          associate's degree  standard   \n",
       "3  female        group C          associate's degree  standard   \n",
       "4    male        group B           bachelor's degree  standard   \n",
       "\n",
       "  test preparation course  math score  reading score  writing score  total  \n",
       "0                    none          67             91             84    242  \n",
       "1                    none          63             63             67    193  \n",
       "2               completed          73             83             85    241  \n",
       "3                    none          85             98             95    278  \n",
       "4                    none          75             57             63    195  "
      ]
     },
     "execution_count": 29,
     "metadata": {},
     "output_type": "execute_result"
    }
   ],
   "source": [
    "df['total'] = df['math score'] + df['reading score'] + df['writing score']\n",
    "df.head()"
   ]
  },
  {
   "cell_type": "markdown",
   "id": "42cfb44e-9a5e-448c-a90d-9e235d220d2a",
   "metadata": {},
   "source": [
    "Сгруппируем данные по национальной группе:"
   ]
  },
  {
   "cell_type": "code",
   "execution_count": 31,
   "id": "8f72a72b-7ad6-4ae2-9a55-1f0e8544a322",
   "metadata": {},
   "outputs": [],
   "source": [
    "gr_df = df.groupby('race/ethnicity')['total'].agg(['mean', 'count'])\n",
    "mu = df['total'].mean() # среднее по всей выборке"
   ]
  },
  {
   "cell_type": "markdown",
   "id": "764925e5-a285-44d0-839b-390c0021cabb",
   "metadata": {},
   "source": [
    "Гипотеза:\n",
    "- $H_0$: Средние всех групп равны\n",
    "- $H_1$: $\\overline{H_0}$"
   ]
  },
  {
   "cell_type": "markdown",
   "id": "e54ca6c8-d410-4ca1-8287-fae99d7969aa",
   "metadata": {},
   "source": [
    "Воспользуемся статистикой $F= \\frac{MS_b}{MS_w} \\sim  \\mathcal{F}(k-1, N-k)$, где $MS_b$ - межгрупповая дисперсия, $MS_w$ - внутригрупповая дисперсия, $k$ - количество групп, $N$ - количество измерений."
   ]
  },
  {
   "cell_type": "markdown",
   "id": "1ca23d16-be63-46b9-8248-bd969acb48f2",
   "metadata": {},
   "source": [
    "$$MS_b = \\frac{1}{k-1}\\sum n_i (\\overline{y_{j}}-\\overline{y})^2$$\n",
    "$$MS_w = \\frac{1}{N-k}\\sum\\sum(y_{i,j}-\\overline{y_{j}})^2$$"
   ]
  },
  {
   "cell_type": "code",
   "execution_count": 35,
   "id": "17634a52-35cd-445c-b2d2-a5efe9a3de56",
   "metadata": {},
   "outputs": [
    {
     "name": "stdout",
     "output_type": "stream",
     "text": [
      "F-статистика: 14.310814847588953\n",
      "p-value: 2.303324198038581e-11\n",
      "Отклоняем H0\n"
     ]
    }
   ],
   "source": [
    "MSb = sum(gr_df['count'] * (gr_df['mean'] - mu)**2) / 4\n",
    "MSw = sum(df.groupby('race/ethnicity')['total'].apply(lambda x: sum((x - x.mean())**2))) / 995\n",
    "\n",
    "F = MSb / MSw # F-статистика\n",
    "p_value = 1 - stats.f.cdf(F, 4, 995)\n",
    "\n",
    "print(f'F-статистика: {F}')\n",
    "print(f'p-value: {p_value}')\n",
    "\n",
    "if p_value > 0.05: print(\"Принимаем H0\")\n",
    "else: print(\"Отклоняем H0\")"
   ]
  },
  {
   "cell_type": "markdown",
   "id": "d3579c50-b18c-4418-baf2-282ab48dc001",
   "metadata": {},
   "source": [
    "Таким образом, мы выяснили, что средние групп не равны."
   ]
  }
 ],
 "metadata": {
  "kernelspec": {
   "display_name": "Python 3 (ipykernel)",
   "language": "python",
   "name": "python3"
  },
  "language_info": {
   "codemirror_mode": {
    "name": "ipython",
    "version": 3
   },
   "file_extension": ".py",
   "mimetype": "text/x-python",
   "name": "python",
   "nbconvert_exporter": "python",
   "pygments_lexer": "ipython3",
   "version": "3.12.7"
  }
 },
 "nbformat": 4,
 "nbformat_minor": 5
}
