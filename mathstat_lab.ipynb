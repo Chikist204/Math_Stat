{
 "cells": [
  {
   "cell_type": "markdown",
   "id": "0a7aa4d8",
   "metadata": {},
   "source": [
    "<font size=6> Лабораторная работа №1 (Вариант 27)</font> \n",
    "        \n",
    "        \n",
    "<font size=4> по предмету Математическая статистика\n",
    "    \n",
    "<font size=2> Выполнил: Чукичев А.В. R3342\n",
    "    \n",
    "<font size=2> Проверил: Береговенко И.И."
   ]
  },
  {
   "cell_type": "markdown",
   "id": "57016994",
   "metadata": {
    "toc": true
   },
   "source": [
    "<h1>Содержание<span class=\"tocSkip\"></span></h1>\n",
    "<div class=\"toc\"><ul class=\"toc-item\"><li><span><a href=\"#Выборка-А\" data-toc-modified-id=\"Выборка-А-1\"><span class=\"toc-item-num\">1&nbsp;&nbsp;</span>Выборка А</a></span><ul class=\"toc-item\"><li><span><a href=\"#Выборка\" data-toc-modified-id=\"Выборка-1.1\"><span class=\"toc-item-num\">1.1&nbsp;&nbsp;</span>Выборка</a></span></li><li><span><a href=\"#Максимальный,-минимальный-элементы-и-размах-выборки\" data-toc-modified-id=\"Максимальный,-минимальный-элементы-и-размах-выборки-1.2\"><span class=\"toc-item-num\">1.2&nbsp;&nbsp;</span>Максимальный, минимальный элементы и размах выборки</a></span></li><li><span><a href=\"#Построение-статистического-ряда-и-полигона\" data-toc-modified-id=\"Построение-статистического-ряда-и-полигона-1.3\"><span class=\"toc-item-num\">1.3&nbsp;&nbsp;</span>Построение статистического ряда и полигона</a></span></li><li><span><a href=\"#Эмпирическая-функция-распределения\" data-toc-modified-id=\"Эмпирическая-функция-распределения-1.4\"><span class=\"toc-item-num\">1.4&nbsp;&nbsp;</span>Эмпирическая функция распределения</a></span></li><li><span><a href=\"#Начальные-и-центральные-эмпирические-моменты-(до-4-го-порядка)\" data-toc-modified-id=\"Начальные-и-центральные-эмпирические-моменты-(до-4-го-порядка)-1.5\"><span class=\"toc-item-num\">1.5&nbsp;&nbsp;</span>Начальные и центральные эмпирические моменты (до 4-го порядка)</a></span></li><li><span><a href=\"#Мода,-медиана,-коэффициенты-асимметрии-и-эксцесса\" data-toc-modified-id=\"Мода,-медиана,-коэффициенты-асимметрии-и-эксцесса-1.6\"><span class=\"toc-item-num\">1.6&nbsp;&nbsp;</span>Мода, медиана, коэффициенты асимметрии и эксцесса</a></span></li><li><span><a href=\"#Выводы-о-распределении-и-оценка-параметров\" data-toc-modified-id=\"Выводы-о-распределении-и-оценка-параметров-1.7\"><span class=\"toc-item-num\">1.7&nbsp;&nbsp;</span>Выводы о распределении и оценка параметров</a></span></li></ul></li><li><span><a href=\"#Выборка-B\" data-toc-modified-id=\"Выборка-B-2\"><span class=\"toc-item-num\">2&nbsp;&nbsp;</span>Выборка B</a></span><ul class=\"toc-item\"><li><span><a href=\"#Выборка\" data-toc-modified-id=\"Выборка-2.1\"><span class=\"toc-item-num\">2.1&nbsp;&nbsp;</span>Выборка</a></span></li><li><span><a href=\"#Максимальный,-минимальный-элементы-и-размах-выборки\" data-toc-modified-id=\"Максимальный,-минимальный-элементы-и-размах-выборки-2.2\"><span class=\"toc-item-num\">2.2&nbsp;&nbsp;</span>Максимальный, минимальный элементы и размах выборки</a></span></li><li><span><a href=\"#Построение-интервального-ряда,-гистограммы-и-полигона\" data-toc-modified-id=\"Построение-интервального-ряда,-гистограммы-и-полигона-2.3\"><span class=\"toc-item-num\">2.3&nbsp;&nbsp;</span>Построение интервального ряда, гистограммы и полигона</a></span></li><li><span><a href=\"#Эмпирическая-функция-распределения\" data-toc-modified-id=\"Эмпирическая-функция-распределения-2.4\"><span class=\"toc-item-num\">2.4&nbsp;&nbsp;</span>Эмпирическая функция распределения</a></span></li><li><span><a href=\"#Начальные-и-центральные-эмпирические-моменты-(до-4-го-порядка)\" data-toc-modified-id=\"Начальные-и-центральные-эмпирические-моменты-(до-4-го-порядка)-2.5\"><span class=\"toc-item-num\">2.5&nbsp;&nbsp;</span>Начальные и центральные эмпирические моменты (до 4-го порядка)</a></span></li><li><span><a href=\"#Мода,-медиана,-коэффициенты-асимметрии-и-эксцесса\" data-toc-modified-id=\"Мода,-медиана,-коэффициенты-асимметрии-и-эксцесса-2.6\"><span class=\"toc-item-num\">2.6&nbsp;&nbsp;</span>Мода, медиана, коэффициенты асимметрии и эксцесса</a></span></li><li><span><a href=\"#Выводы-о-распределении-и-оценка-параметров\" data-toc-modified-id=\"Выводы-о-распределении-и-оценка-параметров-2.7\"><span class=\"toc-item-num\">2.7&nbsp;&nbsp;</span>Выводы о распределении и оценка параметров</a></span></li></ul></li></ul></div>"
   ]
  },
  {
   "cell_type": "markdown",
   "id": "325a2db1",
   "metadata": {},
   "source": [
    "<font size=4> ЦЕЛЬ </font>"
   ]
  },
  {
   "cell_type": "markdown",
   "id": "25f33435",
   "metadata": {},
   "source": [
    "# Выборка А"
   ]
  },
  {
   "cell_type": "code",
   "execution_count": 1,
   "id": "95a2b4d2",
   "metadata": {},
   "outputs": [],
   "source": [
    "import numpy as np\n",
    "import pandas as pd\n",
    "from scipy import stats as st\n",
    "from matplotlib import pyplot as plt\n",
    "plt.rcParams['figure.figsize'] = [10, 6]"
   ]
  },
  {
   "cell_type": "markdown",
   "id": "854152db",
   "metadata": {},
   "source": [
    "## Выборка"
   ]
  },
  {
   "cell_type": "code",
   "execution_count": 2,
   "id": "abd95cb0",
   "metadata": {},
   "outputs": [],
   "source": [
    "a = np.array([1, 0, 1, 3, 1, 1, 4, 0, 0, 1, 1, 1, 0, 1, 2, 0, 2, 1, 0, 1,\n",
    "     1, 0, 1, 0, 2, 2, 1, 1, 0, 0, 0, 1, 2, 1, 1, 1, 2, 3, 0, 1,\n",
    "     0, 2, 2, 0, 2, 2, 0, 1, 0, 0, 0, 0, 3, 2, 2, 3, 1, 2, 0, 1,\n",
    "     2, 1, 1, 0, 1, 2, 0, 2, 2, 1, 0, 0, 2, 0, 0, 0, 3, 1, 2, 2,\n",
    "     2, 0, 2, 0, 2, 1, 0, 3, 1, 1, 3]) # ВЫБОРКА А"
   ]
  },
  {
   "cell_type": "markdown",
   "id": "cee75efc",
   "metadata": {},
   "source": [
    "Количество элементов в выборке:"
   ]
  },
  {
   "cell_type": "code",
   "execution_count": 3,
   "id": "3706994d",
   "metadata": {},
   "outputs": [
    {
     "name": "stdout",
     "output_type": "stream",
     "text": [
      "91\n"
     ]
    }
   ],
   "source": [
    "N = len(a)\n",
    "print(N)"
   ]
  },
  {
   "cell_type": "markdown",
   "id": "eebc49ff",
   "metadata": {},
   "source": [
    "## Максимальный, минимальный элементы и размах выборки"
   ]
  },
  {
   "cell_type": "code",
   "execution_count": 4,
   "id": "c9cb867a",
   "metadata": {},
   "outputs": [
    {
     "name": "stdout",
     "output_type": "stream",
     "text": [
      "Максимальный элемент - 4,\n",
      "Минимальный элемент - 0, \n",
      "Размах - 4\n"
     ]
    }
   ],
   "source": [
    "# Максимальный и минимальный элементы выборки\n",
    "max_element = np.max(a)\n",
    "min_element = np.min(a)### Выборка\n",
    "\n",
    "# Размах выборки\n",
    "range_of_a = max_element - min_element\n",
    "print(f'Максимальный элемент - {max_element},\\nМинимальный элемент - {min_element}, \\nРазмах - {range_of_a}')"
   ]
  },
  {
   "cell_type": "markdown",
   "id": "0e3f62ba",
   "metadata": {},
   "source": [
    "## Построение статистического ряда и полигона "
   ]
  },
  {
   "cell_type": "code",
   "execution_count": 5,
   "id": "e9bf48fc",
   "metadata": {},
   "outputs": [
    {
     "data": {
      "image/png": "[encoded data removed]",
      "text/plain": [
       "<Figure size 1000x600 with 1 Axes>"
      ]
     },
     "metadata": {},
     "output_type": "display_data"
    }
   ],
   "source": [
    "a = np.array(sorted(a))\n",
    "stat_series = {} # Словарь для элементов выборки, где значения - частоты### Выборка\n",
    "\n",
    "for i in a:\n",
    "    if i in stat_series:\n",
    "        stat_series[i] += 1\n",
    "    else:\n",
    "        stat_series[i] = 1\n",
    "\n",
    "index = np.array([-1] + list(stat_series.keys()))\n",
    "vals = np.array([0] + list(stat_series.values()))\n",
    "vals_cum = vals / sum(vals)\n",
    "\n",
    "freq = vals / sum(vals)\n",
    "freq_cum = np.cumsum(freq)\n",
    "\n",
    "plt.plot(index[1:], vals[1:], '-o')\n",
    "plt.grid()\n",
    "plt.title('Полигон')\n",
    "plt.show()"
   ]
  },
  {
   "cell_type": "markdown",
   "id": "ee16fdd1",
   "metadata": {},
   "source": [
    "<font size=4>Cтатистический ряд:"
   ]
  },
  {
   "cell_type": "code",
   "execution_count": 6,
   "id": "c3fcc062",
   "metadata": {},
   "outputs": [
    {
     "data": {
      "text/html": [
       "<div>\n",
       "<style scoped>\n",
       "    .dataframe tbody tr th:only-of-type {\n",
       "        vertical-align: middle;\n",
       "    }\n",
       "\n",
       "    .dataframe tbody tr th {\n",
       "        vertical-align: top;\n",
       "    }\n",
       "\n",
       "    .dataframe thead th {\n",
       "        text-align: right;\n",
       "    }\n",
       "</style>\n",
       "<table border=\"1\" class=\"dataframe\">\n",
       "  <thead>\n",
       "    <tr style=\"text-align: right;\">\n",
       "      <th></th>\n",
       "      <th>0</th>\n",
       "      <th>1</th>\n",
       "      <th>2</th>\n",
       "      <th>3</th>\n",
       "      <th>4</th>\n",
       "    </tr>\n",
       "  </thead>\n",
       "  <tbody>\n",
       "    <tr>\n",
       "      <th>frequency</th>\n",
       "      <td>30</td>\n",
       "      <td>30</td>\n",
       "      <td>23</td>\n",
       "      <td>7</td>\n",
       "      <td>1</td>\n",
       "    </tr>\n",
       "  </tbody>\n",
       "</table>\n",
       "</div>"
      ],
      "text/plain": [
       "            0   1   2  3  4\n",
       "frequency  30  30  23  7  1"
      ]
     },
     "execution_count": 6,
     "metadata": {},
     "output_type": "execute_result"
    }
   ],
   "source": [
    "df = pd.DataFrame(stat_series.values(), index=stat_series.keys(), columns=['frequency'])\n",
    "df.T"
   ]
  },
  {
   "cell_type": "markdown",
   "id": "e7ce26da",
   "metadata": {},
   "source": [
    "## Эмпирическая функция распределения"
   ]
  },
  {
   "cell_type": "code",
   "execution_count": 7,
   "id": "8dcd4739",
   "metadata": {},
   "outputs": [
    {
     "data": {
      "image/png": "[encoded data removed]",
      "text/plain": [
       "<Figure size 1000x600 with 1 Axes>"
      ]
     },
     "metadata": {},
     "output_type": "display_data"
    }
   ],
   "source": [
    "# График мпирического распределения### Выборка\n",
    "for j in range(len(freq_cum)):\n",
    "    plt.arrow(j, freq_cum[j], -1, 0, head_length=0.2, head_width=0.02, length_includes_head=True)\n",
    "plt.plot(index[1:], freq_cum[1:], 'o', markersize=4, markerfacecolor='white')\n",
    "plt.grid()\n",
    "plt.title('Эмпирическая функция распределения')\n",
    "plt.xlabel(r'$x$')\n",
    "plt.ylabel(r'$\\sum{n_i}$')\n",
    "plt.show()"
   ]
  },
  {
   "cell_type": "markdown",
   "id": "ebcc692b",
   "metadata": {},
   "source": [
    "## Начальные и центральные эмпирические моменты (до 4-го порядка)"
   ]
  },
  {
   "cell_type": "markdown",
   "id": "c8263964",
   "metadata": {},
   "source": [
    "<font size=\"4\">Начальный эмпирический момент вычисляется по формуле:\n",
    "   <font size=\"4\"> $$a_k^* = \\frac{1}{N}\\sum_{i=1}^{N}x_i^k$$ </font>,\n",
    "Центральный эмпирический момент вычисляется по формуле:\n",
    "   <font size=\"4\"> $$\\mu_k^* = \\frac{1}{N}\\sum_{i=1}^{N}(x_i-a_1)^k$$</font>"
   ]
  },
  {
   "cell_type": "markdown",
   "id": "77c9085c",
   "metadata": {},
   "source": [
    "Отметим, что первый начальный момент есть Выборочное среднее, которое и используется для подсчета центральных моментов."
   ]
  },
  {
   "cell_type": "code",
   "execution_count": 8,
   "id": "d2749d02",
   "metadata": {},
   "outputs": [
    {
     "name": "stdout",
     "output_type": "stream",
     "text": [
      "1.11\n"
     ]
    }
   ],
   "source": [
    "a_1 = np.mean(a)\n",
    "print(a_1.round(2))"
   ]
  },
  {
   "cell_type": "markdown",
   "id": "72c7f6a2",
   "metadata": {},
   "source": [
    "Также по формулам видно, что все начальные моменты - выборочные средние элементов выборки соответствующих степеней. Центральные моменты - выборочные средние выборки смещенной на выборочное среднее."
   ]
  },
  {
   "cell_type": "markdown",
   "id": "c5ffdd34",
   "metadata": {},
   "source": [
    "Таким образом, первые 4 начальных (кроме 1-го) и центральных момента:"
   ]
  },
  {
   "cell_type": "code",
   "execution_count": 9,
   "id": "03de98ac",
   "metadata": {},
   "outputs": [],
   "source": [
    "a_k = np.array([a_1] + [np.mean(a ** k) for k in range(2, 5)])\n",
    "mu_k = np.array([np.mean((a - a_1) ** k) for k in range(1, 5)])"
   ]
  },
  {
   "cell_type": "markdown",
   "id": "333aad33",
   "metadata": {},
   "source": [
    "<font size=\"4\">$$a_1^* = 1,11  \\;\\;\\;\\;\\;\\;\\;\\;    \\mu_1^* = 0 $$\n",
    "$$a_2^* = 2,21  \\;\\;\\;\\;\\;\\;\\;\\;    \\mu_2^* = 0,98 $$\n",
    "$$a_3^* = 5,13  \\;\\;\\;\\;\\;\\;\\;\\;    \\mu_3^* = 0,51 $$\n",
    "$$a_4^* = 13,42  \\;\\;\\;\\;\\;\\;\\;\\;    \\mu_4^* = 2,41 $$ "
   ]
  },
  {
   "cell_type": "markdown",
   "id": "5f90b464",
   "metadata": {},
   "source": [
    "## Мода, медиана, коэффициенты асимметрии и эксцесса"
   ]
  },
  {
   "cell_type": "markdown",
   "id": "896b80f9",
   "metadata": {},
   "source": [
    "<font size=\"3\">\n",
    "    \n",
    "Мода - значение, наиболее часто встречающееся в выборке. В случае *выборки A*, таких значений 2 и, кроме того, они смежные (т.е. расположены рядом), а значит возьмем среднее арифметическое этих значений.\n",
    "    \n",
    "Медиана - значение в середине упорядоченной выборки: т.е. такое значение, для которого ровно половина значений всей выборки меньше него. Значений в выборке - 91. Значит медиана - значение с индексом 46 в упорядоченном ряде.\n",
    "    \n",
    "Коэффициент Ассиметрии - показывает отклонение распределения от симметричного. Вычисляется по формуле:\n",
    "    \n",
    "$$As^* = \\frac{\\mu_3}{S^3}$$\n",
    "    \n",
    "Коэффициент Эксцесса - характеристика сглаженности.\n",
    "    Вычисляется по формуле:\n",
    "    \n",
    "$$Es^* = \\frac{\\mu_4}{S^4} - 3$$ \n",
    "\n",
    "В обеих формулах: $S^2 = \\mu_2$\n",
    "\n",
    "</font>"
   ]
  },
  {
   "cell_type": "code",
   "execution_count": 10,
   "id": "675566ea",
   "metadata": {},
   "outputs": [],
   "source": [
    "As = mu_k[-2] / np.sqrt(mu_k[1]) ** 3\n",
    "Es = mu_k[-1] / np.sqrt(mu_k[1]) ** 4 - 3"
   ]
  },
  {
   "cell_type": "markdown",
   "id": "180341b5",
   "metadata": {},
   "source": [
    "<font size=\"3\">\n",
    "Получаем следующие значения характеристик:\n",
    "    $$$$ \n",
    "    \n",
    "***Мода:***  $  \\; m_o = \\frac{0 + 1}{2} = 0,5 $\n",
    "\n",
    "***Медиана:*** $m_e = 1 $\n",
    "\n",
    "***Коэффициент Ассиметрии:*** $As = 0,53 $\n",
    "\n",
    "***Коэффициент Эксцесса:*** $Es = -0,48 $"
   ]
  },
  {
   "cell_type": "markdown",
   "id": "dcabb241",
   "metadata": {},
   "source": [
    "## Выводы о распределении и оценка параметров"
   ]
  },
  {
   "cell_type": "markdown",
   "id": "a62ba810",
   "metadata": {},
   "source": [
    "<font size=\"4\">По построенным графикам и найденным характеристикам выборочного распределения, можно сказать следующее:\n",
    "\n",
    "    - выборка положительно определена\n",
    "    - значение моды и медианы выборки - в ее начале (в упорядоченной выборке) \n",
    "    - распределение несимметрично; коэффициент ассиметрии положительный: выборка скошена вправо\n",
    "    - распределение плосковершинное\n",
    "\n",
    "</font>"
   ]
  },
  {
   "cell_type": "markdown",
   "id": "df44f273",
   "metadata": {},
   "source": [
    "<font size=\"4\">\n",
    "\n",
    "По виду и определенным характеристикам распределения, можно предположить, что генеральная совопкупность имеет ***Распределение Пуассона*** с параметром $\\lambda$."
   ]
  },
  {
   "cell_type": "markdown",
   "id": "312d915f",
   "metadata": {},
   "source": [
    "<font size=\"4\">\n",
    "    \n",
    "Оценим данный параметр по методу моментов. Для распределения Пуассона известно, что $\\lambda$ есть математическое ожидание. В таком случае для оценки будем использовать первый эмпирический момент.\n",
    "\n",
    "$$\\lambda = a_1 = \\overline{x_в} = 1,11$$"
   ]
  },
  {
   "cell_type": "markdown",
   "id": "a4f72092",
   "metadata": {},
   "source": [
    "# Выборка B"
   ]
  },
  {
   "cell_type": "markdown",
   "id": "53990e7b",
   "metadata": {},
   "source": [
    "## Выборка"
   ]
  },
  {
   "cell_type": "code",
   "execution_count": 11,
   "id": "1bbd0fb8",
   "metadata": {},
   "outputs": [],
   "source": [
    "b = [187, 193, 199, 197, 196, 184, 200, 193, 198, 191, 193, 188,\n",
    "     193, 195, 197, 199, 202, 193, 190, 197, 195, 182, 201, 202,\n",
    "     184, 197, 205, 178, 191, 200, 223, 188, 192, 188, 194, 183,\n",
    "     207, 183, 195, 184, 175, 195, 212, 197, 194, 184, 175, 198,\n",
    "     189, 194, 185, 213, 192, 200, 194, 173, 206, 163, 204, 174,\n",
    "     183, 199, 203, 185, 199, 196, 196, 188, 169, 196, 190, 205,\n",
    "     189, 189, 190, 175, 190, 193, 209, 190, 183, 191, 193, 191,\n",
    "     190, 192, 191, 185, 202, 173, 184, 176, 199, 182, 186, 189,\n",
    "     193, 185, 168, 192, 193, 205, 171, 193, 191, 206, 187, 193,\n",
    "     192, 189, 191, 190, 182, 194, 194, 197, 207, 198, 180, 175,\n",
    "     193, 191, 188, 187, 191, 191, 192, 192, 214, 171, 208, 185,\n",
    "     195, 190, 214, 193, 183, 193, 193, 187, 198, 203, 181, 173,\n",
    "     189, 195, 180, 180, 205, 194, 179, 191, 201, 195, 195, 189,\n",
    "     185, 199, 194, 187, 173, 211, 190, 165, 182, 182, 194, 168,\n",
    "     176, 192] # ВЫБОРКА А"
   ]
  },
  {
   "cell_type": "markdown",
   "id": "32af74b3",
   "metadata": {},
   "source": [
    "Количество элементов в выборке:"
   ]
  },
  {
   "cell_type": "code",
   "execution_count": 12,
   "id": "00c9d7c4",
   "metadata": {},
   "outputs": [
    {
     "name": "stdout",
     "output_type": "stream",
     "text": [
      "170\n"
     ]
    }
   ],
   "source": [
    "N = len(b)\n",
    "print(N)"
   ]
  },
  {
   "cell_type": "markdown",
   "id": "dc668829",
   "metadata": {},
   "source": [
    "## Максимальный, минимальный элементы и размах выборки"
   ]
  },
  {
   "cell_type": "code",
   "execution_count": 13,
   "id": "d631963b",
   "metadata": {},
   "outputs": [
    {
     "name": "stdout",
     "output_type": "stream",
     "text": [
      "Максимальный элемент - 223,\n",
      "Минимальный элемент - 163, \n",
      "Размах - 60\n"
     ]
    }
   ],
   "source": [
    "# Максимальный и минимальный элементы выборки\n",
    "max_element = np.max(b)\n",
    "min_element = np.min(b)### Выборка\n",
    "\n",
    "# Размах выборки\n",
    "range_of_b = max_element - min_element\n",
    "print(f'Максимальный элемент - {max_element},\\nМинимальный элемент - {min_element}, \\nРазмах - {range_of_b}')"
   ]
  },
  {
   "cell_type": "markdown",
   "id": "95fc637c",
   "metadata": {},
   "source": [
    "## Построение интервального ряда, гистограммы и полигона "
   ]
  },
  {
   "cell_type": "markdown",
   "id": "d62a2236",
   "metadata": {},
   "source": [
    "Определим оптимальное количество интервалов группировки для выборки B. При оценке количества интервалов с помощью $\\sqrt{N}$ получим достаточно большое количество интервалов (*13*), что может быть неудобно. Поэтому воспользуемся формулой Стерджеса: $k = \\left\\lfloor log_2{N} \\right\\rfloor + 1 = 8$.\n",
    "Тогда, длина каждого интервала: $$ h = \\frac{R}{k} = 7,5 \\;,$$ где $R$ - это размах выборки"
   ]
  },
  {
   "cell_type": "code",
   "execution_count": 14,
   "id": "ff2558a7",
   "metadata": {},
   "outputs": [],
   "source": [
    "h = range_of_b / 8"
   ]
  },
  {
   "cell_type": "markdown",
   "id": "7d02847a",
   "metadata": {},
   "source": [
    "Получим интервальный ряд:"
   ]
  },
  {
   "cell_type": "code",
   "execution_count": 15,
   "id": "cdde378f",
   "metadata": {},
   "outputs": [],
   "source": [
    "b = np.array(sorted(b))\n",
    "b_int = [[], [], [], [], [], [], [], []]\n",
    "b_int_avg = []\n",
    "for i in range(1, 9):\n",
    "    b_int_avg.append((min_element + h * i - h  / 2))\n",
    "    for j in b:\n",
    "        if i == 8 and j >= min_element + h * (i-1) and j <= min_element + h * i:\n",
    "            b_int[i-1].append(j)\n",
    "        elif j >= min_element + h * (i-1) and j < min_element + h * i:\n",
    "            b_int[i-1].append(j)\n",
    "freq_val = [len(i) for i in b_int]\n",
    "b_pol_freq = [freq_val[i] for i in range(len(freq_val))]\n",
    "b_freq_cum = [0] + list(np.cumsum(freq_val))"
   ]
  },
  {
   "cell_type": "markdown",
   "id": "3ef70ee8",
   "metadata": {},
   "source": [
    "<font size=\"4\">Интервальный ряд:"
   ]
  },
  {
   "cell_type": "code",
   "execution_count": 16,
   "id": "b15f6a89",
   "metadata": {},
   "outputs": [
    {
     "data": {
      "text/html": [
       "<div>\n",
       "<style scoped>\n",
       "    .dataframe tbody tr th:only-of-type {\n",
       "        vertical-align: middle;\n",
       "    }\n",
       "\n",
       "    .dataframe tbody tr th {\n",
       "        vertical-align: top;\n",
       "    }\n",
       "\n",
       "    .dataframe thead th {\n",
       "        text-align: right;\n",
       "    }\n",
       "</style>\n",
       "<table border=\"1\" class=\"dataframe\">\n",
       "  <thead>\n",
       "    <tr style=\"text-align: right;\">\n",
       "      <th></th>\n",
       "      <th>163-170.5</th>\n",
       "      <th>170.5-178</th>\n",
       "      <th>178-185.5</th>\n",
       "      <th>185.5-193</th>\n",
       "      <th>193-200.5</th>\n",
       "      <th>200.5-208</th>\n",
       "      <th>208-215.5</th>\n",
       "      <th>215.5-223</th>\n",
       "    </tr>\n",
       "  </thead>\n",
       "  <tbody>\n",
       "    <tr>\n",
       "      <th>frequency</th>\n",
       "      <td>5.00</td>\n",
       "      <td>13.00</td>\n",
       "      <td>27.00</td>\n",
       "      <td>46.00</td>\n",
       "      <td>55.00</td>\n",
       "      <td>16.00</td>\n",
       "      <td>7.00</td>\n",
       "      <td>1.00</td>\n",
       "    </tr>\n",
       "    <tr>\n",
       "      <th>avg_x</th>\n",
       "      <td>166.75</td>\n",
       "      <td>174.25</td>\n",
       "      <td>181.75</td>\n",
       "      <td>189.25</td>\n",
       "      <td>196.75</td>\n",
       "      <td>204.25</td>\n",
       "      <td>211.75</td>\n",
       "      <td>219.25</td>\n",
       "    </tr>\n",
       "  </tbody>\n",
       "</table>\n",
       "</div>"
      ],
      "text/plain": [
       "           163-170.5  170.5-178  178-185.5  185.5-193  193-200.5  200.5-208  \\\n",
       "frequency       5.00      13.00      27.00      46.00      55.00      16.00   \n",
       "avg_x         166.75     174.25     181.75     189.25     196.75     204.25   \n",
       "\n",
       "           208-215.5  215.5-223  \n",
       "frequency       7.00       1.00  \n",
       "avg_x         211.75     219.25  "
      ]
     },
     "execution_count": 16,
     "metadata": {},
     "output_type": "execute_result"
    }
   ],
   "source": [
    "df = pd.DataFrame(freq_val, index=['163-170.5', '170.5-178', '178-185.5',\n",
    "                           '185.5-193', '193-200.5', '200.5-208',\n",
    "                           '208-215.5', '215.5-223'], columns=['frequency'])\n",
    "df = df.assign(avg_x=b_int_avg)\n",
    "df.T"
   ]
  },
  {
   "cell_type": "code",
   "execution_count": 17,
   "id": "aee8a2cb",
   "metadata": {},
   "outputs": [
    {
     "data": {
      "image/png": "[encoded data removed]",
      "text/plain": [
       "<Figure size 1000x600 with 1 Axes>"
      ]
     },
     "metadata": {},
     "output_type": "display_data"
    }
   ],
   "source": [
    "counts, bins = np.histogram(b, bins=8)\n",
    "plt.stairs(counts, bins)\n",
    "plt.plot(b_int_avg, b_pol_freq, '-o', color='r')\n",
    "plt.plot([193, 193], [0, 55], linestyle='dashed', color='b')\n",
    "plt.scatter([193], [55])\n",
    "plt.annotate('Mo (193)', (193, 55), fontsize=12, xytext=(190, 60), \n",
    "                arrowprops={'arrowstyle': '-|>', 'color': 'black'})\n",
    "plt.grid()\n",
    "plt.legend(['Гистограмма', 'Полигон'])\n",
    "plt.ylabel(r'$\\sum{n_i}$')\n",
    "plt.xlabel(r'$x$')\n",
    "plt.show()"
   ]
  },
  {
   "cell_type": "code",
   "execution_count": 18,
   "id": "dd616ec1",
   "metadata": {},
   "outputs": [
    {
     "data": {
      "image/png": "[encoded data removed]",
      "text/plain": [
       "<Figure size 1000x600 with 1 Axes>"
      ]
     },
     "metadata": {},
     "output_type": "display_data"
    }
   ],
   "source": [
    "plt.plot(bins, b_freq_cum)\n",
    "plt.plot([192, 192], [0, 45+ 46/7.5 * 6.5], linestyle='dashed', color='b')\n",
    "plt.plot([160, 192], [45+ 46/7.5 * 6.5, 45+ 46/7.5 * 6.5], linestyle='dashed', color='b')\n",
    "plt.scatter([192], [45+ 46/7.5 * 6.5])\n",
    "plt.annotate('Mе (192)', (192, 45 + 46/7.5 * 6.5), fontsize=12, xytext=(195, 65), \n",
    "                arrowprops={'arrowstyle': '-|>', 'color': 'black'})\n",
    "plt.grid()\n",
    "plt.xlim((160, 230))\n",
    "plt.ylim((0, 175))\n",
    "plt.title('Кумулята')\n",
    "plt.ylabel(r'$\\sum{n_i}$')\n",
    "plt.xlabel(r'$x$')\n",
    "plt.show()"
   ]
  },
  {
   "cell_type": "markdown",
   "id": "0eac4019",
   "metadata": {},
   "source": [
    "## Эмпирическая функция распределения"
   ]
  },
  {
   "cell_type": "code",
   "execution_count": 19,
   "id": "57554489",
   "metadata": {},
   "outputs": [],
   "source": [
    "counts, bins = np.histogram(b, bins=8)\n",
    "bins = [163] + list(bins)\n",
    "freq = np.array(freq_val) / sum(freq_val)\n",
    "freq_cum = np.cumsum(freq)\n",
    "freq_cum = [0] + list(freq_cum)"
   ]
  },
  {
   "cell_type": "code",
   "execution_count": 20,
   "id": "cb35acf2",
   "metadata": {},
   "outputs": [
    {
     "data": {
      "image/png": "[encoded data removed]",
      "text/plain": [
       "<Figure size 1000x600 with 1 Axes>"
      ]
     },
     "metadata": {},
     "output_type": "display_data"
    }
   ],
   "source": [
    "# График эмпирического распределения### Выборка\n",
    "for j in range(len(freq_cum)):\n",
    "    if j == 0:\n",
    "        plt.arrow(bins[j], freq_cum[j], -h, 0, head_length=0.6, head_width=0.015, length_includes_head=True)\n",
    "    else:\n",
    "        plt.arrow(bins[j], freq_cum[j], bins[j-1] - bins[j], 0, head_length=0.7, head_width=0.015, length_includes_head=True)\n",
    "plt.plot(bins[1:-2], freq_cum[2:], 'o', markersize=5, markerfacecolor='white')\n",
    "plt.grid()\n",
    "plt.title('Эмпирическая функция распределения интервального ряда')\n",
    "plt.show()"
   ]
  },
  {
   "cell_type": "markdown",
   "id": "48b8edeb",
   "metadata": {},
   "source": [
    "## Начальные и центральные эмпирические моменты (до 4-го порядка)"
   ]
  },
  {
   "cell_type": "markdown",
   "id": "ef39545f",
   "metadata": {},
   "source": [
    "<font size=\"4\">Начальный эмпирический момент вычисляется по формуле:\n",
    "   <font size=\"4\"> $$b_k^* = \\frac{1}{N}\\sum_{i=1}^{N}x_i^k$$ </font>,\n",
    "Центральный эмпирический момент вычисляется по формуле:\n",
    "   <font size=\"4\"> $$\\mu_k^* = \\frac{1}{N}\\sum_{i=1}^{N}(x_i-b_1)^k$$</font>"
   ]
  },
  {
   "cell_type": "markdown",
   "id": "a29b3c95",
   "metadata": {},
   "source": [
    "Первый начальный момент есть Выборочное среднее, которое и используется для подсчета центральных моментов."
   ]
  },
  {
   "cell_type": "code",
   "execution_count": 21,
   "id": "c5e01825",
   "metadata": {},
   "outputs": [
    {
     "name": "stdout",
     "output_type": "stream",
     "text": [
      "191.05\n"
     ]
    }
   ],
   "source": [
    "b_1 = np.mean(b)\n",
    "print(b_1.round(2))"
   ]
  },
  {
   "cell_type": "markdown",
   "id": "ac7ea469",
   "metadata": {},
   "source": [
    "Также по формулам видно, что все начальные моменты - выборочные средние элементов выборки соответствующих степеней. Центральные моменты - выборочные средние выборки смещенной на выборочное среднее."
   ]
  },
  {
   "cell_type": "markdown",
   "id": "2a039cd9",
   "metadata": {},
   "source": [
    "Таким образом, первые 4 начальных (кроме 1-го) и центральных момента:"
   ]
  },
  {
   "cell_type": "code",
   "execution_count": 22,
   "id": "5cc17c9a",
   "metadata": {},
   "outputs": [],
   "source": [
    "b_k = np.array([b_1] + [np.mean(b ** k) for k in range(2, 5)])\n",
    "mu_k = np.array([np.mean((b - b_1) ** k) for k in range(1, 5)])"
   ]
  },
  {
   "cell_type": "markdown",
   "id": "e0f7e32b",
   "metadata": {},
   "source": [
    "<font size=\"4\">$$b_1^* = 191,05  \\;\\;\\;\\;\\;\\;\\;\\;    \\mu_1^* = 0 $$\n",
    "$$b_2^* = 3660,02  \\;\\;\\;\\;\\;\\;\\;\\;    \\mu_2^* = 101,24 $$\n",
    "$$b_3^* = 5,13  \\;\\;\\;\\;\\;\\;\\;\\;    \\mu_3^* = -120,38 $$\n",
    "$$b_4^* = 1329027455,92  \\;\\;\\;\\;\\;\\;\\;\\;    \\mu_4^* = 3651,37 $$ "
   ]
  },
  {
   "cell_type": "markdown",
   "id": "8786b470",
   "metadata": {},
   "source": [
    "## Мода, медиана, коэффициенты асимметрии и эксцесса"
   ]
  },
  {
   "cell_type": "markdown",
   "id": "2e6f886e",
   "metadata": {},
   "source": [
    "<font size=\"3\">\n",
    "    \n",
    "Мода - значение, наиболее часто встречающееся в выборке. В случае *выборки B* это значение *193*, отмеченное ранее на гистограмме.\n",
    "    \n",
    "Медиана - значение в середине упорядоченной выборки: т.е. такое значение, для которого ровно половина значений всей выборки меньше него. Значений в выборке - 170. Значит медиана - среднее значение элементов выборки с индексами 85 и 86 в упорядоченном ряде.\n",
    "    \n",
    "Коэффициент Ассиметрии - показывает отклонение распределения от симметричного. Вычисляется по формуле:\n",
    "    \n",
    "$$As^* = \\frac{\\mu_3}{S^3}$$\n",
    "    \n",
    "Коэффициент Эксцесса - характеристика сглаженности.\n",
    "    Вычисляется по формуле:\n",
    "    \n",
    "$$Es^* = \\frac{\\mu_4}{S^4} - 3$$ \n",
    "\n",
    "В обеих формулах: $S^2 = \\mu_2$\n",
    "\n",
    "</font>"
   ]
  },
  {
   "cell_type": "code",
   "execution_count": 23,
   "id": "7b370311",
   "metadata": {},
   "outputs": [],
   "source": [
    "As = mu_k[-2] / np.sqrt(mu_k[1]) ** 3\n",
    "Es = mu_k[-1] / np.sqrt(mu_k[1]) ** 4 - 3"
   ]
  },
  {
   "cell_type": "markdown",
   "id": "097fa14a",
   "metadata": {},
   "source": [
    "<font size=\"3\">\n",
    "Получаем следующие значения характеристик:\n",
    "    $$$$ \n",
    "    \n",
    "***Мода:***  $  \\; m_o = 193 $\n",
    "\n",
    "***Медиана:*** $m_e = 192 $\n",
    "\n",
    "***Коэффициент Ассиметрии:*** $As = -0,12 $\n",
    "\n",
    "***Коэффициент Эксцесса:*** $Es = 0,56 $"
   ]
  },
  {
   "cell_type": "markdown",
   "id": "910760f7",
   "metadata": {},
   "source": [
    "## Выводы о распределении и оценка параметров"
   ]
  },
  {
   "cell_type": "markdown",
   "id": "e891d58f",
   "metadata": {},
   "source": [
    "<font size=\"4\">По построенным графикам и найденным характеристикам выборочного распределения, можно сказать следующее:\n",
    "\n",
    "    - выборка положительно определена со средним значением 191.05\n",
    "    - значение моды и медианы выборки - в центре выборки\n",
    "    - Медиана не сильно отличается от среднего выборки\n",
    "    - коэффициент ассиметрии достаточно близко к нулю, поэтому выборка почти симметрична\n",
    "    - распределение островершинное\n",
    "\n",
    "</font>"
   ]
  },
  {
   "cell_type": "markdown",
   "id": "9f4c5a93",
   "metadata": {},
   "source": [
    "<font size=\"4\">Будем рассматривать распределение выборки B как непрерывное. Близость к симметричности напоминает ***Нормальное*** распределение с параметрами $\\mu$ и $\\sigma^2$. Оценим параметры распределения методом максимального правдоподобия."
   ]
  },
  {
   "cell_type": "markdown",
   "id": "0398ba96",
   "metadata": {},
   "source": [
    "<font size=\"4\">Составим логорифмическую функцию правдоподобия: $$L(\\overrightarrow{X}, \\mu, \\sigma^2) = ln{(f(\\overrightarrow{X},\\mu, \\sigma^2))}= ln{(\\prod_{1}^{N} \\frac{1}{\\sqrt{2\\pi\\sigma^2}} e^{\\frac{-(x_i-\\mu)^2}{2\\sigma^2}})} = ln{(\\frac{1}{({2\\pi\\sigma^2})^{\\frac{N}{2}}} e^{-\\sum\\frac{(x_i-\\mu)^2}{2\\sigma^2}})},$$ где $\\frac{1}{\\sqrt{2\\pi\\sigma^2}} e^{\\frac{-(x_i-\\mu)^2}{2\\sigma^2}}$ - плотность нормального распределения $f_{(\\mu, \\sigma^2)}(y)$"
   ]
  },
  {
   "cell_type": "markdown",
   "id": "3aeda393",
   "metadata": {},
   "source": [
    "<font size=\"4\">Таким образом:$$L(\\overrightarrow{X}, \\mu, \\sigma^2) = ln{(\\frac{1}{({2\\pi\\sigma^2})^{\\frac{N}{2}}} e^{-\\sum\\frac{(x_i-\\mu)^2}{2\\sigma^2}})} = -ln(2\\pi)^{\\frac{N}{2}} - \\frac{N}{2}ln(\\sigma^2) - \\frac{\\sum_{1}^{N} (x_i-\\mu)^2}{2\\sigma^2}$$"
   ]
  },
  {
   "cell_type": "markdown",
   "id": "8a5e76fd",
   "metadata": {},
   "source": [
    "<font size=\"4\">По методу правдоподобия заключается в том, чтобы найти параметры, для которых вероятность получить текущую выборку - максимальна. Для этого найдем частные производные по параметрам и получим систему."
   ]
  },
  {
   "cell_type": "markdown",
   "id": "e98527e6",
   "metadata": {},
   "source": [
    "<font size=\"4\">Найдем точку экстремума по $\\mu$ и $\\sigma^2$: $$ \\begin{cases}\n",
    "\\frac{\\partial }{\\partial \\mu}L(\\overrightarrow{X}, \\mu, \\sigma^2) = \\frac{\\sum (x_i-\\mu)}{\\sigma^2} = \\frac{N\\overline{X} - N\\mu}{\\sigma^2} = 0 \\\\\n",
    "\\frac{\\partial }{\\partial \\sigma^2}L(\\overrightarrow{X}, \\mu, \\sigma^2) = -\\frac{N}{2\\sigma^2} + \\frac{\\sum (x_i - \\mu) ^ 2}{2\\sigma^4} = 0\t\n",
    "\\end{cases}. $$"
   ]
  },
  {
   "cell_type": "markdown",
   "id": "98347b21",
   "metadata": {},
   "source": [
    "<font size=\"4\">Решая данную систему уравнений, получим следующее: $$ \\mu = \\overline{X} = 191,05 ,$$ $$ \\sigma^2 = \\mu_2^* = 101,24 $$ Таким образом, мы получили оценку параметров нормального распределения."
   ]
  }
 ],
 "metadata": {
  "kernelspec": {
   "display_name": "Python 3 (ipykernel)",
   "language": "python",
   "name": "python3"
  },
  "language_info": {
   "codemirror_mode": {
    "name": "ipython",
    "version": 3
   },
   "file_extension": ".py",
   "mimetype": "text/x-python",
   "name": "python",
   "nbconvert_exporter": "python",
   "pygments_lexer": "ipython3",
   "version": "3.11.3"
  },
  "toc": {
   "base_numbering": 1,
   "nav_menu": {},
   "number_sections": true,
   "sideBar": true,
   "skip_h1_title": false,
   "title_cell": "Содержание",
   "title_sidebar": "Содержание",
   "toc_cell": true,
   "toc_position": {
    "height": "calc(100% - 180px)",
    "left": "10px",
    "top": "150px",
    "width": "389.757px"
   },
   "toc_section_display": true,
   "toc_window_display": false
  }
 },
 "nbformat": 4,
 "nbformat_minor": 5
}
