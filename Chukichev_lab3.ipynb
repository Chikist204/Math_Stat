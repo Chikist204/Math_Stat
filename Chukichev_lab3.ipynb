{
 "cells": [
  {
   "cell_type": "markdown",
   "id": "3c1f8616-901f-4e6c-8c7e-5d882331d76b",
   "metadata": {},
   "source": [
    "<font size=6> Лабораторная работа №3</font> \n",
    "        \n",
    "        \n",
    "<font size=4> по предмету Математическая статистика\n",
    "\n",
    "<font size=2> Вариант 4\n",
    "\n",
    "<font size=2> Выполнил: Чукичев А.В. R3342\n",
    "    \n",
    "<font size=2> Проверил: Береговенко И.И."
   ]
  },
  {
   "cell_type": "markdown",
   "id": "c2337cf4-2cca-4d35-bac8-ea298a0f52a1",
   "metadata": {},
   "source": [
    "## Задание 1"
   ]
  },
  {
   "cell_type": "code",
   "execution_count": 3,
   "id": "6a4f6d05-7731-4f42-85e8-6bb4a39d2967",
   "metadata": {},
   "outputs": [],
   "source": [
    "import numpy as np\n",
    "import scipy.stats as stats\n",
    "import pandas as pd\n",
    "import matplotlib.pyplot as plt\n",
    "import seaborn as sns"
   ]
  },
  {
   "cell_type": "code",
   "execution_count": 4,
   "id": "c7c8a935-c3e9-4244-aa1b-bc1106cd46be",
   "metadata": {},
   "outputs": [
    {
     "data": {
      "text/html": [
       "<div>\n",
       "<style scoped>\n",
       "    .dataframe tbody tr th:only-of-type {\n",
       "        vertical-align: middle;\n",
       "    }\n",
       "\n",
       "    .dataframe tbody tr th {\n",
       "        vertical-align: top;\n",
       "    }\n",
       "\n",
       "    .dataframe thead th {\n",
       "        text-align: right;\n",
       "    }\n",
       "</style>\n",
       "<table border=\"1\" class=\"dataframe\">\n",
       "  <thead>\n",
       "    <tr style=\"text-align: right;\">\n",
       "      <th></th>\n",
       "      <th>battery_power</th>\n",
       "      <th>blue</th>\n",
       "      <th>clock_speed</th>\n",
       "      <th>dual_sim</th>\n",
       "      <th>fc</th>\n",
       "      <th>four_g</th>\n",
       "      <th>int_memory</th>\n",
       "      <th>m_dep</th>\n",
       "      <th>mobile_wt</th>\n",
       "      <th>n_cores</th>\n",
       "      <th>...</th>\n",
       "      <th>px_height</th>\n",
       "      <th>px_width</th>\n",
       "      <th>ram</th>\n",
       "      <th>sc_h</th>\n",
       "      <th>sc_w</th>\n",
       "      <th>talk_time</th>\n",
       "      <th>three_g</th>\n",
       "      <th>touch_screen</th>\n",
       "      <th>wifi</th>\n",
       "      <th>price_range</th>\n",
       "    </tr>\n",
       "  </thead>\n",
       "  <tbody>\n",
       "    <tr>\n",
       "      <th>0</th>\n",
       "      <td>842</td>\n",
       "      <td>0</td>\n",
       "      <td>2.2</td>\n",
       "      <td>0</td>\n",
       "      <td>1</td>\n",
       "      <td>0</td>\n",
       "      <td>7</td>\n",
       "      <td>0.6</td>\n",
       "      <td>188</td>\n",
       "      <td>2</td>\n",
       "      <td>...</td>\n",
       "      <td>20</td>\n",
       "      <td>756</td>\n",
       "      <td>2549</td>\n",
       "      <td>9</td>\n",
       "      <td>7</td>\n",
       "      <td>19</td>\n",
       "      <td>0</td>\n",
       "      <td>0</td>\n",
       "      <td>1</td>\n",
       "      <td>1</td>\n",
       "    </tr>\n",
       "    <tr>\n",
       "      <th>1</th>\n",
       "      <td>1021</td>\n",
       "      <td>1</td>\n",
       "      <td>0.5</td>\n",
       "      <td>1</td>\n",
       "      <td>0</td>\n",
       "      <td>1</td>\n",
       "      <td>53</td>\n",
       "      <td>0.7</td>\n",
       "      <td>136</td>\n",
       "      <td>3</td>\n",
       "      <td>...</td>\n",
       "      <td>905</td>\n",
       "      <td>1988</td>\n",
       "      <td>2631</td>\n",
       "      <td>17</td>\n",
       "      <td>3</td>\n",
       "      <td>7</td>\n",
       "      <td>1</td>\n",
       "      <td>1</td>\n",
       "      <td>0</td>\n",
       "      <td>2</td>\n",
       "    </tr>\n",
       "    <tr>\n",
       "      <th>2</th>\n",
       "      <td>563</td>\n",
       "      <td>1</td>\n",
       "      <td>0.5</td>\n",
       "      <td>1</td>\n",
       "      <td>2</td>\n",
       "      <td>1</td>\n",
       "      <td>41</td>\n",
       "      <td>0.9</td>\n",
       "      <td>145</td>\n",
       "      <td>5</td>\n",
       "      <td>...</td>\n",
       "      <td>1263</td>\n",
       "      <td>1716</td>\n",
       "      <td>2603</td>\n",
       "      <td>11</td>\n",
       "      <td>2</td>\n",
       "      <td>9</td>\n",
       "      <td>1</td>\n",
       "      <td>1</td>\n",
       "      <td>0</td>\n",
       "      <td>2</td>\n",
       "    </tr>\n",
       "    <tr>\n",
       "      <th>3</th>\n",
       "      <td>615</td>\n",
       "      <td>1</td>\n",
       "      <td>2.5</td>\n",
       "      <td>0</td>\n",
       "      <td>0</td>\n",
       "      <td>0</td>\n",
       "      <td>10</td>\n",
       "      <td>0.8</td>\n",
       "      <td>131</td>\n",
       "      <td>6</td>\n",
       "      <td>...</td>\n",
       "      <td>1216</td>\n",
       "      <td>1786</td>\n",
       "      <td>2769</td>\n",
       "      <td>16</td>\n",
       "      <td>8</td>\n",
       "      <td>11</td>\n",
       "      <td>1</td>\n",
       "      <td>0</td>\n",
       "      <td>0</td>\n",
       "      <td>2</td>\n",
       "    </tr>\n",
       "    <tr>\n",
       "      <th>4</th>\n",
       "      <td>1821</td>\n",
       "      <td>1</td>\n",
       "      <td>1.2</td>\n",
       "      <td>0</td>\n",
       "      <td>13</td>\n",
       "      <td>1</td>\n",
       "      <td>44</td>\n",
       "      <td>0.6</td>\n",
       "      <td>141</td>\n",
       "      <td>2</td>\n",
       "      <td>...</td>\n",
       "      <td>1208</td>\n",
       "      <td>1212</td>\n",
       "      <td>1411</td>\n",
       "      <td>8</td>\n",
       "      <td>2</td>\n",
       "      <td>15</td>\n",
       "      <td>1</td>\n",
       "      <td>1</td>\n",
       "      <td>0</td>\n",
       "      <td>1</td>\n",
       "    </tr>\n",
       "  </tbody>\n",
       "</table>\n",
       "<p>5 rows × 21 columns</p>\n",
       "</div>"
      ],
      "text/plain": [
       "   battery_power  blue  clock_speed  dual_sim  fc  four_g  int_memory  m_dep  \\\n",
       "0            842     0          2.2         0   1       0           7    0.6   \n",
       "1           1021     1          0.5         1   0       1          53    0.7   \n",
       "2            563     1          0.5         1   2       1          41    0.9   \n",
       "3            615     1          2.5         0   0       0          10    0.8   \n",
       "4           1821     1          1.2         0  13       1          44    0.6   \n",
       "\n",
       "   mobile_wt  n_cores  ...  px_height  px_width   ram  sc_h  sc_w  talk_time  \\\n",
       "0        188        2  ...         20       756  2549     9     7         19   \n",
       "1        136        3  ...        905      1988  2631    17     3          7   \n",
       "2        145        5  ...       1263      1716  2603    11     2          9   \n",
       "3        131        6  ...       1216      1786  2769    16     8         11   \n",
       "4        141        2  ...       1208      1212  1411     8     2         15   \n",
       "\n",
       "   three_g  touch_screen  wifi  price_range  \n",
       "0        0             0     1            1  \n",
       "1        1             1     0            2  \n",
       "2        1             1     0            2  \n",
       "3        1             0     0            2  \n",
       "4        1             1     0            1  \n",
       "\n",
       "[5 rows x 21 columns]"
      ]
     },
     "execution_count": 4,
     "metadata": {},
     "output_type": "execute_result"
    }
   ],
   "source": [
    "df = pd.read_csv('mobile_phones.csv')\n",
    "df.head()"
   ]
  },
  {
   "cell_type": "code",
   "execution_count": 5,
   "id": "13113bf4-918c-4ba8-8f49-8e4a5221b595",
   "metadata": {},
   "outputs": [
    {
     "data": {
      "text/html": [
       "<div>\n",
       "<style scoped>\n",
       "    .dataframe tbody tr th:only-of-type {\n",
       "        vertical-align: middle;\n",
       "    }\n",
       "\n",
       "    .dataframe tbody tr th {\n",
       "        vertical-align: top;\n",
       "    }\n",
       "\n",
       "    .dataframe thead th {\n",
       "        text-align: right;\n",
       "    }\n",
       "</style>\n",
       "<table border=\"1\" class=\"dataframe\">\n",
       "  <thead>\n",
       "    <tr style=\"text-align: right;\">\n",
       "      <th></th>\n",
       "      <th>battery_power</th>\n",
       "      <th>blue</th>\n",
       "      <th>clock_speed</th>\n",
       "      <th>dual_sim</th>\n",
       "      <th>fc</th>\n",
       "      <th>four_g</th>\n",
       "      <th>int_memory</th>\n",
       "      <th>m_dep</th>\n",
       "      <th>mobile_wt</th>\n",
       "      <th>n_cores</th>\n",
       "      <th>...</th>\n",
       "      <th>px_height</th>\n",
       "      <th>px_width</th>\n",
       "      <th>ram</th>\n",
       "      <th>sc_h</th>\n",
       "      <th>sc_w</th>\n",
       "      <th>talk_time</th>\n",
       "      <th>three_g</th>\n",
       "      <th>touch_screen</th>\n",
       "      <th>wifi</th>\n",
       "      <th>price_range</th>\n",
       "    </tr>\n",
       "  </thead>\n",
       "  <tbody>\n",
       "    <tr>\n",
       "      <th>count</th>\n",
       "      <td>2000.000000</td>\n",
       "      <td>2000.0000</td>\n",
       "      <td>2000.000000</td>\n",
       "      <td>2000.000000</td>\n",
       "      <td>2000.000000</td>\n",
       "      <td>2000.000000</td>\n",
       "      <td>2000.000000</td>\n",
       "      <td>2000.000000</td>\n",
       "      <td>2000.000000</td>\n",
       "      <td>2000.000000</td>\n",
       "      <td>...</td>\n",
       "      <td>2000.000000</td>\n",
       "      <td>2000.000000</td>\n",
       "      <td>2000.000000</td>\n",
       "      <td>2000.000000</td>\n",
       "      <td>2000.000000</td>\n",
       "      <td>2000.000000</td>\n",
       "      <td>2000.000000</td>\n",
       "      <td>2000.000000</td>\n",
       "      <td>2000.000000</td>\n",
       "      <td>2000.000000</td>\n",
       "    </tr>\n",
       "    <tr>\n",
       "      <th>mean</th>\n",
       "      <td>1238.518500</td>\n",
       "      <td>0.4950</td>\n",
       "      <td>1.522250</td>\n",
       "      <td>0.509500</td>\n",
       "      <td>4.309500</td>\n",
       "      <td>0.521500</td>\n",
       "      <td>32.046500</td>\n",
       "      <td>0.501750</td>\n",
       "      <td>140.249000</td>\n",
       "      <td>4.520500</td>\n",
       "      <td>...</td>\n",
       "      <td>645.108000</td>\n",
       "      <td>1251.515500</td>\n",
       "      <td>2124.213000</td>\n",
       "      <td>12.306500</td>\n",
       "      <td>5.767000</td>\n",
       "      <td>11.011000</td>\n",
       "      <td>0.761500</td>\n",
       "      <td>0.503000</td>\n",
       "      <td>0.507000</td>\n",
       "      <td>1.500000</td>\n",
       "    </tr>\n",
       "    <tr>\n",
       "      <th>std</th>\n",
       "      <td>439.418206</td>\n",
       "      <td>0.5001</td>\n",
       "      <td>0.816004</td>\n",
       "      <td>0.500035</td>\n",
       "      <td>4.341444</td>\n",
       "      <td>0.499662</td>\n",
       "      <td>18.145715</td>\n",
       "      <td>0.288416</td>\n",
       "      <td>35.399655</td>\n",
       "      <td>2.287837</td>\n",
       "      <td>...</td>\n",
       "      <td>443.780811</td>\n",
       "      <td>432.199447</td>\n",
       "      <td>1084.732044</td>\n",
       "      <td>4.213245</td>\n",
       "      <td>4.356398</td>\n",
       "      <td>5.463955</td>\n",
       "      <td>0.426273</td>\n",
       "      <td>0.500116</td>\n",
       "      <td>0.500076</td>\n",
       "      <td>1.118314</td>\n",
       "    </tr>\n",
       "    <tr>\n",
       "      <th>min</th>\n",
       "      <td>501.000000</td>\n",
       "      <td>0.0000</td>\n",
       "      <td>0.500000</td>\n",
       "      <td>0.000000</td>\n",
       "      <td>0.000000</td>\n",
       "      <td>0.000000</td>\n",
       "      <td>2.000000</td>\n",
       "      <td>0.100000</td>\n",
       "      <td>80.000000</td>\n",
       "      <td>1.000000</td>\n",
       "      <td>...</td>\n",
       "      <td>0.000000</td>\n",
       "      <td>500.000000</td>\n",
       "      <td>256.000000</td>\n",
       "      <td>5.000000</td>\n",
       "      <td>0.000000</td>\n",
       "      <td>2.000000</td>\n",
       "      <td>0.000000</td>\n",
       "      <td>0.000000</td>\n",
       "      <td>0.000000</td>\n",
       "      <td>0.000000</td>\n",
       "    </tr>\n",
       "    <tr>\n",
       "      <th>25%</th>\n",
       "      <td>851.750000</td>\n",
       "      <td>0.0000</td>\n",
       "      <td>0.700000</td>\n",
       "      <td>0.000000</td>\n",
       "      <td>1.000000</td>\n",
       "      <td>0.000000</td>\n",
       "      <td>16.000000</td>\n",
       "      <td>0.200000</td>\n",
       "      <td>109.000000</td>\n",
       "      <td>3.000000</td>\n",
       "      <td>...</td>\n",
       "      <td>282.750000</td>\n",
       "      <td>874.750000</td>\n",
       "      <td>1207.500000</td>\n",
       "      <td>9.000000</td>\n",
       "      <td>2.000000</td>\n",
       "      <td>6.000000</td>\n",
       "      <td>1.000000</td>\n",
       "      <td>0.000000</td>\n",
       "      <td>0.000000</td>\n",
       "      <td>0.750000</td>\n",
       "    </tr>\n",
       "    <tr>\n",
       "      <th>50%</th>\n",
       "      <td>1226.000000</td>\n",
       "      <td>0.0000</td>\n",
       "      <td>1.500000</td>\n",
       "      <td>1.000000</td>\n",
       "      <td>3.000000</td>\n",
       "      <td>1.000000</td>\n",
       "      <td>32.000000</td>\n",
       "      <td>0.500000</td>\n",
       "      <td>141.000000</td>\n",
       "      <td>4.000000</td>\n",
       "      <td>...</td>\n",
       "      <td>564.000000</td>\n",
       "      <td>1247.000000</td>\n",
       "      <td>2146.500000</td>\n",
       "      <td>12.000000</td>\n",
       "      <td>5.000000</td>\n",
       "      <td>11.000000</td>\n",
       "      <td>1.000000</td>\n",
       "      <td>1.000000</td>\n",
       "      <td>1.000000</td>\n",
       "      <td>1.500000</td>\n",
       "    </tr>\n",
       "    <tr>\n",
       "      <th>75%</th>\n",
       "      <td>1615.250000</td>\n",
       "      <td>1.0000</td>\n",
       "      <td>2.200000</td>\n",
       "      <td>1.000000</td>\n",
       "      <td>7.000000</td>\n",
       "      <td>1.000000</td>\n",
       "      <td>48.000000</td>\n",
       "      <td>0.800000</td>\n",
       "      <td>170.000000</td>\n",
       "      <td>7.000000</td>\n",
       "      <td>...</td>\n",
       "      <td>947.250000</td>\n",
       "      <td>1633.000000</td>\n",
       "      <td>3064.500000</td>\n",
       "      <td>16.000000</td>\n",
       "      <td>9.000000</td>\n",
       "      <td>16.000000</td>\n",
       "      <td>1.000000</td>\n",
       "      <td>1.000000</td>\n",
       "      <td>1.000000</td>\n",
       "      <td>2.250000</td>\n",
       "    </tr>\n",
       "    <tr>\n",
       "      <th>max</th>\n",
       "      <td>1998.000000</td>\n",
       "      <td>1.0000</td>\n",
       "      <td>3.000000</td>\n",
       "      <td>1.000000</td>\n",
       "      <td>19.000000</td>\n",
       "      <td>1.000000</td>\n",
       "      <td>64.000000</td>\n",
       "      <td>1.000000</td>\n",
       "      <td>200.000000</td>\n",
       "      <td>8.000000</td>\n",
       "      <td>...</td>\n",
       "      <td>1960.000000</td>\n",
       "      <td>1998.000000</td>\n",
       "      <td>3998.000000</td>\n",
       "      <td>19.000000</td>\n",
       "      <td>18.000000</td>\n",
       "      <td>20.000000</td>\n",
       "      <td>1.000000</td>\n",
       "      <td>1.000000</td>\n",
       "      <td>1.000000</td>\n",
       "      <td>3.000000</td>\n",
       "    </tr>\n",
       "  </tbody>\n",
       "</table>\n",
       "<p>8 rows × 21 columns</p>\n",
       "</div>"
      ],
      "text/plain": [
       "       battery_power       blue  clock_speed     dual_sim           fc  \\\n",
       "count    2000.000000  2000.0000  2000.000000  2000.000000  2000.000000   \n",
       "mean     1238.518500     0.4950     1.522250     0.509500     4.309500   \n",
       "std       439.418206     0.5001     0.816004     0.500035     4.341444   \n",
       "min       501.000000     0.0000     0.500000     0.000000     0.000000   \n",
       "25%       851.750000     0.0000     0.700000     0.000000     1.000000   \n",
       "50%      1226.000000     0.0000     1.500000     1.000000     3.000000   \n",
       "75%      1615.250000     1.0000     2.200000     1.000000     7.000000   \n",
       "max      1998.000000     1.0000     3.000000     1.000000    19.000000   \n",
       "\n",
       "            four_g   int_memory        m_dep    mobile_wt      n_cores  ...  \\\n",
       "count  2000.000000  2000.000000  2000.000000  2000.000000  2000.000000  ...   \n",
       "mean      0.521500    32.046500     0.501750   140.249000     4.520500  ...   \n",
       "std       0.499662    18.145715     0.288416    35.399655     2.287837  ...   \n",
       "min       0.000000     2.000000     0.100000    80.000000     1.000000  ...   \n",
       "25%       0.000000    16.000000     0.200000   109.000000     3.000000  ...   \n",
       "50%       1.000000    32.000000     0.500000   141.000000     4.000000  ...   \n",
       "75%       1.000000    48.000000     0.800000   170.000000     7.000000  ...   \n",
       "max       1.000000    64.000000     1.000000   200.000000     8.000000  ...   \n",
       "\n",
       "         px_height     px_width          ram         sc_h         sc_w  \\\n",
       "count  2000.000000  2000.000000  2000.000000  2000.000000  2000.000000   \n",
       "mean    645.108000  1251.515500  2124.213000    12.306500     5.767000   \n",
       "std     443.780811   432.199447  1084.732044     4.213245     4.356398   \n",
       "min       0.000000   500.000000   256.000000     5.000000     0.000000   \n",
       "25%     282.750000   874.750000  1207.500000     9.000000     2.000000   \n",
       "50%     564.000000  1247.000000  2146.500000    12.000000     5.000000   \n",
       "75%     947.250000  1633.000000  3064.500000    16.000000     9.000000   \n",
       "max    1960.000000  1998.000000  3998.000000    19.000000    18.000000   \n",
       "\n",
       "         talk_time      three_g  touch_screen         wifi  price_range  \n",
       "count  2000.000000  2000.000000   2000.000000  2000.000000  2000.000000  \n",
       "mean     11.011000     0.761500      0.503000     0.507000     1.500000  \n",
       "std       5.463955     0.426273      0.500116     0.500076     1.118314  \n",
       "min       2.000000     0.000000      0.000000     0.000000     0.000000  \n",
       "25%       6.000000     1.000000      0.000000     0.000000     0.750000  \n",
       "50%      11.000000     1.000000      1.000000     1.000000     1.500000  \n",
       "75%      16.000000     1.000000      1.000000     1.000000     2.250000  \n",
       "max      20.000000     1.000000      1.000000     1.000000     3.000000  \n",
       "\n",
       "[8 rows x 21 columns]"
      ]
     },
     "execution_count": 5,
     "metadata": {},
     "output_type": "execute_result"
    }
   ],
   "source": [
    "df.describe()"
   ]
  },
  {
   "cell_type": "code",
   "execution_count": 6,
   "id": "911d9a0f-47e2-4059-a791-8bdd9bfa64f8",
   "metadata": {},
   "outputs": [
    {
     "data": {
      "image/png": "[encoded data removed]",
      "text/plain": [
       "<Figure size 1000x500 with 1 Axes>"
      ]
     },
     "metadata": {},
     "output_type": "display_data"
    }
   ],
   "source": [
    "plt.figure(figsize=(10, 5))\n",
    "plt.hist(df['battery_power'], bins=15, edgecolor='black')\n",
    "plt.title('Распределение емкости аккумуляторов', fontsize=12)\n",
    "plt.xlabel('Емкость аккумулятора')\n",
    "plt.ylabel('Количество телефонов')\n",
    "plt.show()"
   ]
  },
  {
   "cell_type": "markdown",
   "id": "0f34e35d-5693-4145-8eb1-c1f9c34c329a",
   "metadata": {},
   "source": [
    "Распределение емкостей аккумуляторов напоминает *равномерное распределение*.\n",
    "\n",
    "Сформулируем гипотезы:\n",
    "- $H_0$ - емкость аккумулятора распределена равномерно\n",
    "- $H_1$ - емкость аккумулятора не распределена равномерно"
   ]
  },
  {
   "cell_type": "markdown",
   "id": "f5841e4b-6c35-425d-b203-1863f784600e",
   "metadata": {},
   "source": [
    "Для проверки гипотезы воспользуемся критерием $\\chi^2$.\n",
    "\n",
    "$$ \\chi^2 = \\sum^k \\frac{(n_{i} - n_{i}^*)^2}{n_{i}^*}, $$ где $ n_{i} $ - эмпирическая частота, $ n_{i}^* $ - теоретическая частота. Данные разбиты на k=15 интервалов.\n",
    "\n",
    "Причем теоретическую частоту найдем по следующим формулам: $$n_{1}^* = n\\frac{1}{b^*-a^*}(x_{1}-a^*)$$ - первый элемент, $$n_{k}^* = n\\frac{1}{b^*-a^*}(b^*-x_{k-1})$$ - последний, $$n_{i}^* = n\\frac{1}{b^*-a^*}(x_{i+1}-x_i)$$ - остальные.\n",
    "\n",
    "Границы интервала теоретического распределения: $$a^*=\\overline{X} - \\sqrt{3} \\sigma$$ $$b^*=\\overline{X} + \\sqrt{3} \\sigma$$"
   ]
  },
  {
   "cell_type": "code",
   "execution_count": 9,
   "id": "fb0330c2-a02c-4cb0-ad4e-66528fd31868",
   "metadata": {},
   "outputs": [],
   "source": [
    "mean = np.mean(df['battery_power'])\n",
    "std = np.std(df['battery_power'])\n",
    "a, b = mean - np.sqrt(3) * std, mean + np.sqrt(3) * std # границы интервала теоретического распределения\n",
    "f = 1 / (b - a) # постоянная формулы для вычисления частот\n",
    "hist, bins = np.histogram(df['battery_power'], bins=15) # разбиение на k интервалов"
   ]
  },
  {
   "cell_type": "markdown",
   "id": "492c2369-6980-4362-9492-f42ac07e3f30",
   "metadata": {},
   "source": [
    "Вычислим частоты по формулам:"
   ]
  },
  {
   "cell_type": "code",
   "execution_count": 11,
   "id": "fe1a7dc3-59f5-451f-a538-f0f2dd504f16",
   "metadata": {},
   "outputs": [],
   "source": [
    "th1 = 2000 * (bins[1] - a) * f\n",
    "thk = 2000 * (b - bins[-2]) * f\n",
    "th = [th1]\n",
    "for i in range(15 - 2):\n",
    "    th.append(2000 * f * (bins[1] - bins[0]))\n",
    "th.append(thk)\n",
    "th = np.array(th)"
   ]
  },
  {
   "cell_type": "code",
   "execution_count": 12,
   "id": "e0e7e5b5-ca6f-466e-9804-5002171dc2aa",
   "metadata": {},
   "outputs": [
    {
     "name": "stdout",
     "output_type": "stream",
     "text": [
      "Принимаем H0: равномерное распределение\n",
      "Статистика: 7.1841694056179985\n",
      "Критическое значение: 21.02606981748307\n",
      "p-value: 0.8452066327030932\n"
     ]
    }
   ],
   "source": [
    "chi = sum((hist - th) ** 2 / th)\n",
    "crit = stats.chi2.ppf(1-0.05, 12) # критиеческое значение уровня значимости 0.05, 12 - количество степеней свободы: 15 - 2 -1\n",
    "p_value = 1 - stats.chi2.cdf(chi, 12)\n",
    "\n",
    "if chi < crit: print(\"Принимаем H0: равномерное распределение\")\n",
    "else: print(\"Отклоняем H0: не равномерное распределение\")\n",
    "\n",
    "print(f\"Статистика: {chi}\")\n",
    "print(f\"Критическое значение: {crit}\")\n",
    "print(f\"p-value: {p_value}\")"
   ]
  },
  {
   "cell_type": "markdown",
   "id": "bd354d5f-c0a9-4d2a-9edb-2620cb1790ed",
   "metadata": {},
   "source": [
    "Проверим гипотезу по критерию Колмогорова-Смирнова (статистика Колмогорова-Смирнова): $$D_n = \\sup_x \\left| F_n(x) - F(x) \\right|$$"
   ]
  },
  {
   "cell_type": "code",
   "execution_count": 14,
   "id": "de609822-7a88-42c8-8488-3e40f6d3691a",
   "metadata": {},
   "outputs": [
    {
     "name": "stdout",
     "output_type": "stream",
     "text": [
      "Статистика = 0.015367148910880545\n",
      "p-value: 0.7262864970349476\n",
      "Принимаем H0: равномерное распределение\n"
     ]
    }
   ],
   "source": [
    "stat, p_value = stats.kstest(df['battery_power'], 'uniform', args=(a, b-a))\n",
    "print(f\"Статистика = {stat}\")\n",
    "print(f\"p-value: {p_value}\")\n",
    "\n",
    "if p_value > 0.05: print(\"Принимаем H0: равномерное распределение\")\n",
    "else: print(\"Отклоняем H0: не равномерное распределение\")"
   ]
  },
  {
   "cell_type": "markdown",
   "id": "93defa86-163b-47d7-ac8c-27ffe0dedb63",
   "metadata": {},
   "source": [
    "Таким образом, подтвердилась гипотеза о равномерности распределения емкости аккумулятора."
   ]
  },
  {
   "cell_type": "markdown",
   "id": "8120f942-9b56-4720-8348-e4c5335973da",
   "metadata": {},
   "source": [
    "## Задание 2"
   ]
  },
  {
   "cell_type": "code",
   "execution_count": 17,
   "id": "894bd9e2-efbb-40b0-b49f-331d99723d46",
   "metadata": {},
   "outputs": [
    {
     "data": {
      "image/png": "[encoded data removed]",
      "text/plain": [
       "<Figure size 1000x500 with 1 Axes>"
      ]
     },
     "metadata": {},
     "output_type": "display_data"
    }
   ],
   "source": [
    "plt.figure(figsize=(10, 5))\n",
    "plt.hist(df[df['wifi'] == 1]['battery_power'], bins=15, edgecolor='black')\n",
    "plt.hist(df[df['wifi'] == 0]['battery_power'], bins=15, edgecolor='black', alpha=0.6)\n",
    "\n",
    "plt.title('Распределение емкости аккумуляторов', fontsize=12)\n",
    "plt.xlabel('Емкость аккумулятора')\n",
    "plt.ylabel('Количество телефонов')\n",
    "plt.show()"
   ]
  },
  {
   "cell_type": "markdown",
   "id": "b6d38c84-ade8-4b8c-a9d5-462dbd03f79f",
   "metadata": {},
   "source": [
    "В данном задании необходимо проверить равенство распределений двух групп: емкость аккумулятора телефона с поддержкой wi-fi и без.\n",
    "\n",
    "- $H_0$ - распределения групп равны\n",
    "- $H_1$ - распределения групп различны"
   ]
  },
  {
   "cell_type": "markdown",
   "id": "d329ee56-30d4-4468-b647-72404fc904bc",
   "metadata": {},
   "source": [
    "Тесто Манна-Уитни. Статистика Манна-Уитни определяется как наименьшее из: $$U_1 = n_1 n_2 + \\frac{n_1 (n_1 + 1)}{2} - R_1 $$ $$U_1 = n_1 n_2 + \\frac{n_2 (n_2 + 1)}{2} - R_2$$, где $R_1, R_2$ - суммы рангов в группах после ранжирования."
   ]
  },
  {
   "cell_type": "code",
   "execution_count": 22,
   "id": "60189f32-954a-45e7-b329-dabbdb6ce280",
   "metadata": {},
   "outputs": [],
   "source": [
    "wifi = df[df['wifi'] == 1]['battery_power']\n",
    "no_wifi = df[df['wifi'] == 0]['battery_power']\n",
    "n1 = len(wifi)\n",
    "n2 = len(no_wifi)\n",
    "\n",
    "all = np.concatenate([wifi, no_wifi])\n",
    "ranks = np.argsort(np.argsort(all)) + 1\n",
    "\n",
    "ranks_wifi = ranks[:n1]\n",
    "ranks_no_wifi = ranks[n1:]\n",
    "\n",
    "\n",
    "R1 = np.sum(ranks_wifi)\n",
    "R2 = np.sum(ranks_no_wifi)\n",
    "\n",
    "U1 = n1 * n2 + (n1 * (n1 + 1)) / 2 - R1\n",
    "U2 = n1 * n2 + (n2 * (n2 + 1)) / 2 - R2\n",
    "#Выбираем минимальное значение U\n",
    "U = min(U1, U2)"
   ]
  },
  {
   "cell_type": "markdown",
   "id": "c857d927-3188-4819-ac20-cfa07ee7d644",
   "metadata": {},
   "source": [
    "Для достаточно больших выборок $U$ ~ нормально распределено. В этом случае рассмотрим: $$z = \\frac{U - \\mu_U}{\\sigma_U},$$ где $$\\mu_U = \\frac{n_1 n_2}{2}$$ $$\\sigma_U = \\sqrt{\\frac{n_1 n_2 (n_1 + n_2 + 1)}{12}} $$"
   ]
  },
  {
   "cell_type": "code",
   "execution_count": 31,
   "id": "6c37a94d-2d30-4744-815d-4bb16fea7d02",
   "metadata": {},
   "outputs": [
    {
     "name": "stdout",
     "output_type": "stream",
     "text": [
      "Z-значение: -0.3796496035074918\n",
      "p-значение: 0.7042055344985165\n",
      "Принимаем H0: распределения одинаковы\n"
     ]
    }
   ],
   "source": [
    "#Нормальное приближение\n",
    "mu_u = n1 * n2 / 2\n",
    "sigma_u = np.sqrt(n1 * n2 * (n1 + n2 + 1) / 12)\n",
    "z = (U - mu_u) / sigma_u\n",
    "p_value = 2 * stats.norm.sf(abs(z))\n",
    "print(f\"Z-значение: {z}\") \n",
    "print(f\"p-значение: {p_value}\")\n",
    "\n",
    "if p_value > 0.05: print(\"Принимаем H0: распределения одинаковы\")\n",
    "else: print(\"Отклоняем H0: распределения неодинаковы\")"
   ]
  },
  {
   "cell_type": "markdown",
   "id": "818c5d51-7663-4085-b3e7-ed29f1a81b1d",
   "metadata": {},
   "source": [
    "Теперь проверим гипотезы с помощью двухвыборочного критерия Колмогорова-Смирнова:"
   ]
  },
  {
   "cell_type": "code",
   "execution_count": 34,
   "id": "6fa373c1-41c9-4c83-a4eb-9ca086e4c1ad",
   "metadata": {},
   "outputs": [
    {
     "name": "stdout",
     "output_type": "stream",
     "text": [
      "Статистика Колмогорова-Смирнова = 0.028327552200231244\n",
      "p-value: 0.8018408971218307\n",
      "Принимаем H0: распределения одинаковы\n"
     ]
    }
   ],
   "source": [
    "stat, p_value = stats.ks_2samp(wifi, no_wifi)\n",
    "print(f\"Статистика Колмогорова-Смирнова = {stat}\")\n",
    "print(f\"p-value: {p_value}\")\n",
    "\n",
    "if p_value > 0.05: print(\"Принимаем H0: распределения одинаковы\")\n",
    "else: print(\"Отклоняем H0: распределения неодинаковы\")"
   ]
  },
  {
   "cell_type": "markdown",
   "id": "dd9dcf0b-915e-4351-bd6f-58f746aaf8cc",
   "metadata": {},
   "source": [
    "Таким образом, оба теста подтвердили гипотезу о том, что распределения емкости аккумулятора разных групп **одинаковы**."
   ]
  },
  {
   "cell_type": "markdown",
   "id": "ef1646fa-0bd8-441c-8f2e-f02f3fcdbd5d",
   "metadata": {},
   "source": [
    "## Задание 3"
   ]
  },
  {
   "cell_type": "markdown",
   "id": "5048e4cf-b565-44ed-a815-81e83b2122bc",
   "metadata": {},
   "source": [
    "В этом задании нужно проверить зависимость объема емкости и цены. Имеем следующие гипотезы:\n",
    "- $H_0$ - при увеличении емкости цена не меняется\n",
    "- $H_1$ - при увеличении емкости цена меняется"
   ]
  },
  {
   "cell_type": "markdown",
   "id": "6c355316-f5f2-4ac1-a34c-828f5400752a",
   "metadata": {},
   "source": [
    "Проверим гипотезы с помощью критерия корреляции Пирсона: $$r_{xy} = \\frac{\\sum (x_i - \\overline{x})(y_i - \\overline{y})}{\\sqrt{\\sum(x_i-\\overline{x})^2} \\sqrt{\\sum (y_i - \\overline{y})^2}}.$$"
   ]
  },
  {
   "cell_type": "code",
   "execution_count": 40,
   "id": "cf75bbe3-11c7-44a7-adf1-24c7fd2fca5b",
   "metadata": {},
   "outputs": [],
   "source": [
    "x = df['battery_power']\n",
    "y = df['price_range']\n",
    "mu1 = np.mean(x)\n",
    "mu2 = np.mean(y)"
   ]
  },
  {
   "cell_type": "code",
   "execution_count": 42,
   "id": "7d59154e-e0f0-4c29-a897-1065d7a5118f",
   "metadata": {},
   "outputs": [],
   "source": [
    "r = sum((x - mu1) * (y - mu2)) / (np.sqrt(sum((x - mu1) ** 2)) * np.sqrt(sum((y - mu2) ** 2)))\n",
    "t_stat = r * np.sqrt((len(df) - 2) / (1 - r ** 2))"
   ]
  },
  {
   "cell_type": "markdown",
   "id": "802878e6-aa44-4939-84d3-308da0e80465",
   "metadata": {},
   "source": [
    "Критическим значением является  квантиль распределения Стьюдента с $n - 2$ степенями свободы"
   ]
  },
  {
   "cell_type": "code",
   "execution_count": 45,
   "id": "24dcedf8-c460-4d5a-87a2-a5ee16bff4d1",
   "metadata": {},
   "outputs": [
    {
     "name": "stdout",
     "output_type": "stream",
     "text": [
      "t-статистика: 9.158491232205316\n",
      "t-критическое: 1.9611520148367056\n",
      "Отклоняем H0: цена зависит от емкости аккумулятора\n"
     ]
    }
   ],
   "source": [
    "crit = stats.t.ppf(1 - 0.05 / 2, len(df) - 2)\n",
    "print(f\"t-статистика: {t_stat}\")\n",
    "print(f\"t-критическое: {crit}\")\n",
    "\n",
    "if t_stat < crit: print(\"Принимаем H0: цена не зависит от емкости аккумулятора\")\n",
    "else: print(\"Отклоняем H0: цена зависит от емкости аккумулятора\")"
   ]
  },
  {
   "cell_type": "markdown",
   "id": "11dbb704-ee81-4c5a-9765-bcd23edc5e8f",
   "metadata": {},
   "source": [
    "Проверим гипотезы с помощью критерия Спирмана"
   ]
  },
  {
   "cell_type": "code",
   "execution_count": 48,
   "id": "331facdf-a709-4578-8199-c0dc81ae6bba",
   "metadata": {},
   "outputs": [
    {
     "name": "stdout",
     "output_type": "stream",
     "text": [
      "Коэффициент корреляции Спирмана: 0.19999095450908858\n",
      "p-value: 1.7223057044179651e-19\n",
      "Отклоняем H0: цена зависит от емкости аккумулятора\n"
     ]
    }
   ],
   "source": [
    "r_s, p_value = stats.spearmanr(x, y)\n",
    "print(f\"Коэффициент корреляции Спирмана: {r_s}\")\n",
    "print(f\"p-value: {p_value}\")\n",
    "\n",
    "if p_value > 0.05: print(\"Принимаем H0: цена не зависит от емкости аккумулятора\")\n",
    "else: print(\"Отклоняем H0: цена зависит от емкости аккумулятора\")"
   ]
  },
  {
   "cell_type": "markdown",
   "id": "3b3c16b5-8c74-43d5-8196-6cb1c46179d5",
   "metadata": {},
   "source": [
    "Таким образом, можно говорить о зависимости цены от емкости аккумулятора."
   ]
  }
 ],
 "metadata": {
  "kernelspec": {
   "display_name": "Python 3 (ipykernel)",
   "language": "python",
   "name": "python3"
  },
  "language_info": {
   "codemirror_mode": {
    "name": "ipython",
    "version": 3
   },
   "file_extension": ".py",
   "mimetype": "text/x-python",
   "name": "python",
   "nbconvert_exporter": "python",
   "pygments_lexer": "ipython3",
   "version": "3.12.7"
  }
 },
 "nbformat": 4,
 "nbformat_minor": 5
}
